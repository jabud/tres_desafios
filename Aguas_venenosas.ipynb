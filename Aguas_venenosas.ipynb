{
 "cells": [
  {
   "cell_type": "markdown",
   "metadata": {},
   "source": [
    "# Desafío: Aguas Venenosas\n",
    "\n",
    "Los aldeanos de la isla en la que te encuentras son víctimas de conflictos entre tribus. El\n",
    "método más usado para resolver conflictos ha sido el envenenamiento de aguas enemigas.\n",
    "\n",
    "Una de las tribus está diseñando un detector de veneno. Ellos lograron identificar las 10 características mínimas y requeridas que hacen de una sustancia una sustancia venenosa para su especie (`veneno.csv`).\n",
    "Tu has recibido un dataset (`sustancias_diversas.csv`) de 500 sustancias diversas con las 10 características, estas sustancias fueron encontradas en distintos lagos cada una. La idea es clausurar lagos infectados. La tropa que cerrará los lagos infectados tiene sólo 50 miembros, tu debes entregar un dataset con las primeros 50 lagos\n",
    "que cerrará cada miembro de la tropa.\n",
    "\n",
    "* <a href=\"#exploration\">Explora tus datasets.</a>\n",
    "* <a href=\"#explica\">Explica la idea general de tu solución con dibujos, diagramas, videos, legos, bolitas de plastilina, etc.</a>\n",
    "* <a href=\"#implementa\">Implementa tu solución explicando los pasos que usas.</a>\n",
    "* <a href=\"#guarda\">Guarda las 50 sustancias en un archivo nombrado urgente_orden_de_cierre.csv</a>\n",
    "* <a href=\"#ordena\">(Opcional) Si crees que es necesario ordenarlas en algún orden específico, indícalo.</a>"
   ]
  },
  {
   "cell_type": "markdown",
   "metadata": {},
   "source": [
    "<a id='exploration'></a>\n",
    "## Explorar datasets"
   ]
  },
  {
   "cell_type": "code",
   "execution_count": 1,
   "metadata": {},
   "outputs": [],
   "source": [
    "import pandas as pd\n",
    "import numpy as np"
   ]
  },
  {
   "cell_type": "code",
   "execution_count": 2,
   "metadata": {},
   "outputs": [],
   "source": [
    "veneno = pd.read_csv('datasets/veneno.csv')\n",
    "sustancias = pd.read_csv('datasets/sustancias_diversas.csv')"
   ]
  },
  {
   "cell_type": "code",
   "execution_count": 3,
   "metadata": {},
   "outputs": [
    {
     "data": {
      "text/html": [
       "<div>\n",
       "<style scoped>\n",
       "    .dataframe tbody tr th:only-of-type {\n",
       "        vertical-align: middle;\n",
       "    }\n",
       "\n",
       "    .dataframe tbody tr th {\n",
       "        vertical-align: top;\n",
       "    }\n",
       "\n",
       "    .dataframe thead th {\n",
       "        text-align: right;\n",
       "    }\n",
       "</style>\n",
       "<table border=\"1\" class=\"dataframe\">\n",
       "  <thead>\n",
       "    <tr style=\"text-align: right;\">\n",
       "      <th></th>\n",
       "      <th>caracteristica</th>\n",
       "      <th>v1</th>\n",
       "      <th>v2</th>\n",
       "      <th>v3</th>\n",
       "      <th>v4</th>\n",
       "      <th>v5</th>\n",
       "      <th>v6</th>\n",
       "      <th>v7</th>\n",
       "      <th>v8</th>\n",
       "      <th>v9</th>\n",
       "      <th>v10</th>\n",
       "    </tr>\n",
       "  </thead>\n",
       "  <tbody>\n",
       "    <tr>\n",
       "      <th>0</th>\n",
       "      <td>valor</td>\n",
       "      <td>21</td>\n",
       "      <td>56</td>\n",
       "      <td>2131.4</td>\n",
       "      <td>164.6</td>\n",
       "      <td>4527.9</td>\n",
       "      <td>1</td>\n",
       "      <td>2.09</td>\n",
       "      <td>3.8</td>\n",
       "      <td>538</td>\n",
       "      <td>23.7</td>\n",
       "    </tr>\n",
       "  </tbody>\n",
       "</table>\n",
       "</div>"
      ],
      "text/plain": [
       "  caracteristica  v1  v2      v3     v4      v5  v6    v7   v8   v9   v10\n",
       "0          valor  21  56  2131.4  164.6  4527.9   1  2.09  3.8  538  23.7"
      ]
     },
     "execution_count": 3,
     "metadata": {},
     "output_type": "execute_result"
    }
   ],
   "source": [
    "veneno"
   ]
  },
  {
   "cell_type": "code",
   "execution_count": 4,
   "metadata": {},
   "outputs": [
    {
     "data": {
      "text/html": [
       "<div>\n",
       "<style scoped>\n",
       "    .dataframe tbody tr th:only-of-type {\n",
       "        vertical-align: middle;\n",
       "    }\n",
       "\n",
       "    .dataframe tbody tr th {\n",
       "        vertical-align: top;\n",
       "    }\n",
       "\n",
       "    .dataframe thead th {\n",
       "        text-align: right;\n",
       "    }\n",
       "</style>\n",
       "<table border=\"1\" class=\"dataframe\">\n",
       "  <thead>\n",
       "    <tr style=\"text-align: right;\">\n",
       "      <th></th>\n",
       "      <th>id</th>\n",
       "      <th>v1</th>\n",
       "      <th>v2</th>\n",
       "      <th>v3</th>\n",
       "      <th>v4</th>\n",
       "      <th>v5</th>\n",
       "      <th>v6</th>\n",
       "      <th>v7</th>\n",
       "      <th>v8</th>\n",
       "      <th>v9</th>\n",
       "      <th>v10</th>\n",
       "    </tr>\n",
       "  </thead>\n",
       "  <tbody>\n",
       "    <tr>\n",
       "      <th>0</th>\n",
       "      <td>517</td>\n",
       "      <td>24.7</td>\n",
       "      <td>48.5</td>\n",
       "      <td>2449.5</td>\n",
       "      <td>133.0</td>\n",
       "      <td>5044.5</td>\n",
       "      <td>1.2</td>\n",
       "      <td>2.2</td>\n",
       "      <td>3.8</td>\n",
       "      <td>568.8</td>\n",
       "      <td>19.9</td>\n",
       "    </tr>\n",
       "    <tr>\n",
       "      <th>1</th>\n",
       "      <td>226</td>\n",
       "      <td>21.0</td>\n",
       "      <td>56.2</td>\n",
       "      <td>2114.7</td>\n",
       "      <td>163.7</td>\n",
       "      <td>4559.6</td>\n",
       "      <td>1.0</td>\n",
       "      <td>2.1</td>\n",
       "      <td>3.8</td>\n",
       "      <td>542.8</td>\n",
       "      <td>23.7</td>\n",
       "    </tr>\n",
       "    <tr>\n",
       "      <th>2</th>\n",
       "      <td>615</td>\n",
       "      <td>18.2</td>\n",
       "      <td>56.8</td>\n",
       "      <td>2055.4</td>\n",
       "      <td>150.3</td>\n",
       "      <td>4718.8</td>\n",
       "      <td>0.8</td>\n",
       "      <td>2.4</td>\n",
       "      <td>4.6</td>\n",
       "      <td>431.6</td>\n",
       "      <td>23.5</td>\n",
       "    </tr>\n",
       "    <tr>\n",
       "      <th>3</th>\n",
       "      <td>390</td>\n",
       "      <td>20.8</td>\n",
       "      <td>56.0</td>\n",
       "      <td>2112.9</td>\n",
       "      <td>165.9</td>\n",
       "      <td>4503.9</td>\n",
       "      <td>1.0</td>\n",
       "      <td>2.1</td>\n",
       "      <td>3.8</td>\n",
       "      <td>533.9</td>\n",
       "      <td>23.9</td>\n",
       "    </tr>\n",
       "    <tr>\n",
       "      <th>4</th>\n",
       "      <td>172</td>\n",
       "      <td>21.0</td>\n",
       "      <td>56.4</td>\n",
       "      <td>2146.7</td>\n",
       "      <td>166.0</td>\n",
       "      <td>4492.2</td>\n",
       "      <td>1.0</td>\n",
       "      <td>2.1</td>\n",
       "      <td>3.8</td>\n",
       "      <td>543.2</td>\n",
       "      <td>23.7</td>\n",
       "    </tr>\n",
       "  </tbody>\n",
       "</table>\n",
       "</div>"
      ],
      "text/plain": [
       "    id    v1    v2      v3     v4      v5   v6   v7   v8     v9   v10\n",
       "0  517  24.7  48.5  2449.5  133.0  5044.5  1.2  2.2  3.8  568.8  19.9\n",
       "1  226  21.0  56.2  2114.7  163.7  4559.6  1.0  2.1  3.8  542.8  23.7\n",
       "2  615  18.2  56.8  2055.4  150.3  4718.8  0.8  2.4  4.6  431.6  23.5\n",
       "3  390  20.8  56.0  2112.9  165.9  4503.9  1.0  2.1  3.8  533.9  23.9\n",
       "4  172  21.0  56.4  2146.7  166.0  4492.2  1.0  2.1  3.8  543.2  23.7"
      ]
     },
     "execution_count": 4,
     "metadata": {},
     "output_type": "execute_result"
    }
   ],
   "source": [
    "sustancias.head()"
   ]
  },
  {
   "cell_type": "markdown",
   "metadata": {},
   "source": [
    "### Checando duplicados"
   ]
  },
  {
   "cell_type": "code",
   "execution_count": 5,
   "metadata": {
    "scrolled": true
   },
   "outputs": [
    {
     "data": {
      "text/html": [
       "<div>\n",
       "<style scoped>\n",
       "    .dataframe tbody tr th:only-of-type {\n",
       "        vertical-align: middle;\n",
       "    }\n",
       "\n",
       "    .dataframe tbody tr th {\n",
       "        vertical-align: top;\n",
       "    }\n",
       "\n",
       "    .dataframe thead th {\n",
       "        text-align: right;\n",
       "    }\n",
       "</style>\n",
       "<table border=\"1\" class=\"dataframe\">\n",
       "  <thead>\n",
       "    <tr style=\"text-align: right;\">\n",
       "      <th></th>\n",
       "      <th>id</th>\n",
       "      <th>v1</th>\n",
       "      <th>v2</th>\n",
       "      <th>v3</th>\n",
       "      <th>v4</th>\n",
       "      <th>v5</th>\n",
       "      <th>v6</th>\n",
       "      <th>v7</th>\n",
       "      <th>v8</th>\n",
       "      <th>v9</th>\n",
       "      <th>v10</th>\n",
       "    </tr>\n",
       "  </thead>\n",
       "  <tbody>\n",
       "  </tbody>\n",
       "</table>\n",
       "</div>"
      ],
      "text/plain": [
       "Empty DataFrame\n",
       "Columns: [id, v1, v2, v3, v4, v5, v6, v7, v8, v9, v10]\n",
       "Index: []"
      ]
     },
     "execution_count": 5,
     "metadata": {},
     "output_type": "execute_result"
    }
   ],
   "source": [
    "sustancias[sustancias.drop('id', axis=1).duplicated()]"
   ]
  },
  {
   "cell_type": "code",
   "execution_count": 6,
   "metadata": {},
   "outputs": [
    {
     "data": {
      "text/html": [
       "<div>\n",
       "<style scoped>\n",
       "    .dataframe tbody tr th:only-of-type {\n",
       "        vertical-align: middle;\n",
       "    }\n",
       "\n",
       "    .dataframe tbody tr th {\n",
       "        vertical-align: top;\n",
       "    }\n",
       "\n",
       "    .dataframe thead th {\n",
       "        text-align: right;\n",
       "    }\n",
       "</style>\n",
       "<table border=\"1\" class=\"dataframe\">\n",
       "  <thead>\n",
       "    <tr style=\"text-align: right;\">\n",
       "      <th></th>\n",
       "      <th>id</th>\n",
       "      <th>v1</th>\n",
       "      <th>v2</th>\n",
       "      <th>v3</th>\n",
       "      <th>v4</th>\n",
       "      <th>v5</th>\n",
       "      <th>v6</th>\n",
       "      <th>v7</th>\n",
       "      <th>v8</th>\n",
       "      <th>v9</th>\n",
       "      <th>v10</th>\n",
       "    </tr>\n",
       "  </thead>\n",
       "  <tbody>\n",
       "  </tbody>\n",
       "</table>\n",
       "</div>"
      ],
      "text/plain": [
       "Empty DataFrame\n",
       "Columns: [id, v1, v2, v3, v4, v5, v6, v7, v8, v9, v10]\n",
       "Index: []"
      ]
     },
     "execution_count": 6,
     "metadata": {},
     "output_type": "execute_result"
    }
   ],
   "source": [
    "sustancias[sustancias['id'].duplicated()]"
   ]
  },
  {
   "cell_type": "markdown",
   "metadata": {},
   "source": [
    "### Checando descripción y distribución"
   ]
  },
  {
   "cell_type": "markdown",
   "metadata": {},
   "source": [
    "No hay valores nulos"
   ]
  },
  {
   "cell_type": "code",
   "execution_count": 7,
   "metadata": {},
   "outputs": [
    {
     "name": "stdout",
     "output_type": "stream",
     "text": [
      "<class 'pandas.core.frame.DataFrame'>\n",
      "RangeIndex: 500 entries, 0 to 499\n",
      "Data columns (total 11 columns):\n",
      "id     500 non-null int64\n",
      "v1     500 non-null float64\n",
      "v2     500 non-null float64\n",
      "v3     500 non-null float64\n",
      "v4     500 non-null float64\n",
      "v5     500 non-null float64\n",
      "v6     500 non-null float64\n",
      "v7     500 non-null float64\n",
      "v8     500 non-null float64\n",
      "v9     500 non-null float64\n",
      "v10    500 non-null float64\n",
      "dtypes: float64(10), int64(1)\n",
      "memory usage: 43.1 KB\n"
     ]
    }
   ],
   "source": [
    "sustancias.info()"
   ]
  },
  {
   "cell_type": "markdown",
   "metadata": {},
   "source": [
    "No veo nada raro en la distribución, no hay outliers.\n",
    "\n",
    "**Lo que si veo es que el promedio de los valores es muuuy parecido al dataset de veneno.**"
   ]
  },
  {
   "cell_type": "code",
   "execution_count": 8,
   "metadata": {},
   "outputs": [
    {
     "data": {
      "text/html": [
       "<div>\n",
       "<style scoped>\n",
       "    .dataframe tbody tr th:only-of-type {\n",
       "        vertical-align: middle;\n",
       "    }\n",
       "\n",
       "    .dataframe tbody tr th {\n",
       "        vertical-align: top;\n",
       "    }\n",
       "\n",
       "    .dataframe thead th {\n",
       "        text-align: right;\n",
       "    }\n",
       "</style>\n",
       "<table border=\"1\" class=\"dataframe\">\n",
       "  <thead>\n",
       "    <tr style=\"text-align: right;\">\n",
       "      <th></th>\n",
       "      <th>id</th>\n",
       "      <th>v1</th>\n",
       "      <th>v2</th>\n",
       "      <th>v3</th>\n",
       "      <th>v4</th>\n",
       "      <th>v5</th>\n",
       "      <th>v6</th>\n",
       "      <th>v7</th>\n",
       "      <th>v8</th>\n",
       "      <th>v9</th>\n",
       "      <th>v10</th>\n",
       "    </tr>\n",
       "  </thead>\n",
       "  <tbody>\n",
       "    <tr>\n",
       "      <th>count</th>\n",
       "      <td>500.00000</td>\n",
       "      <td>500.000000</td>\n",
       "      <td>500.000000</td>\n",
       "      <td>500.000000</td>\n",
       "      <td>500.000000</td>\n",
       "      <td>500.000000</td>\n",
       "      <td>500.000000</td>\n",
       "      <td>500.000000</td>\n",
       "      <td>500.000000</td>\n",
       "      <td>500.000000</td>\n",
       "      <td>500.000000</td>\n",
       "    </tr>\n",
       "    <tr>\n",
       "      <th>mean</th>\n",
       "      <td>487.33800</td>\n",
       "      <td>20.977800</td>\n",
       "      <td>55.915400</td>\n",
       "      <td>2122.973800</td>\n",
       "      <td>165.231200</td>\n",
       "      <td>4536.858200</td>\n",
       "      <td>1.001600</td>\n",
       "      <td>2.107600</td>\n",
       "      <td>3.799600</td>\n",
       "      <td>538.805200</td>\n",
       "      <td>23.677000</td>\n",
       "    </tr>\n",
       "    <tr>\n",
       "      <th>std</th>\n",
       "      <td>289.23473</td>\n",
       "      <td>1.667359</td>\n",
       "      <td>4.483171</td>\n",
       "      <td>165.021963</td>\n",
       "      <td>13.069945</td>\n",
       "      <td>354.197585</td>\n",
       "      <td>0.086559</td>\n",
       "      <td>0.170765</td>\n",
       "      <td>0.315021</td>\n",
       "      <td>41.981127</td>\n",
       "      <td>1.976893</td>\n",
       "    </tr>\n",
       "    <tr>\n",
       "      <th>min</th>\n",
       "      <td>1.00000</td>\n",
       "      <td>16.800000</td>\n",
       "      <td>45.000000</td>\n",
       "      <td>1705.700000</td>\n",
       "      <td>132.100000</td>\n",
       "      <td>3624.600000</td>\n",
       "      <td>0.800000</td>\n",
       "      <td>1.700000</td>\n",
       "      <td>3.000000</td>\n",
       "      <td>430.700000</td>\n",
       "      <td>19.000000</td>\n",
       "    </tr>\n",
       "    <tr>\n",
       "      <th>25%</th>\n",
       "      <td>233.75000</td>\n",
       "      <td>20.800000</td>\n",
       "      <td>55.400000</td>\n",
       "      <td>2111.050000</td>\n",
       "      <td>163.100000</td>\n",
       "      <td>4485.775000</td>\n",
       "      <td>1.000000</td>\n",
       "      <td>2.100000</td>\n",
       "      <td>3.800000</td>\n",
       "      <td>532.875000</td>\n",
       "      <td>23.500000</td>\n",
       "    </tr>\n",
       "    <tr>\n",
       "      <th>50%</th>\n",
       "      <td>469.50000</td>\n",
       "      <td>21.000000</td>\n",
       "      <td>55.900000</td>\n",
       "      <td>2129.800000</td>\n",
       "      <td>164.750000</td>\n",
       "      <td>4532.750000</td>\n",
       "      <td>1.000000</td>\n",
       "      <td>2.100000</td>\n",
       "      <td>3.800000</td>\n",
       "      <td>537.100000</td>\n",
       "      <td>23.700000</td>\n",
       "    </tr>\n",
       "    <tr>\n",
       "      <th>75%</th>\n",
       "      <td>745.25000</td>\n",
       "      <td>21.200000</td>\n",
       "      <td>56.500000</td>\n",
       "      <td>2147.625000</td>\n",
       "      <td>166.125000</td>\n",
       "      <td>4572.550000</td>\n",
       "      <td>1.000000</td>\n",
       "      <td>2.100000</td>\n",
       "      <td>3.800000</td>\n",
       "      <td>542.800000</td>\n",
       "      <td>23.900000</td>\n",
       "    </tr>\n",
       "    <tr>\n",
       "      <th>max</th>\n",
       "      <td>995.00000</td>\n",
       "      <td>25.200000</td>\n",
       "      <td>67.200000</td>\n",
       "      <td>2556.800000</td>\n",
       "      <td>197.500000</td>\n",
       "      <td>5430.000000</td>\n",
       "      <td>1.200000</td>\n",
       "      <td>2.500000</td>\n",
       "      <td>4.600000</td>\n",
       "      <td>644.300000</td>\n",
       "      <td>28.400000</td>\n",
       "    </tr>\n",
       "  </tbody>\n",
       "</table>\n",
       "</div>"
      ],
      "text/plain": [
       "              id          v1          v2           v3          v4  \\\n",
       "count  500.00000  500.000000  500.000000   500.000000  500.000000   \n",
       "mean   487.33800   20.977800   55.915400  2122.973800  165.231200   \n",
       "std    289.23473    1.667359    4.483171   165.021963   13.069945   \n",
       "min      1.00000   16.800000   45.000000  1705.700000  132.100000   \n",
       "25%    233.75000   20.800000   55.400000  2111.050000  163.100000   \n",
       "50%    469.50000   21.000000   55.900000  2129.800000  164.750000   \n",
       "75%    745.25000   21.200000   56.500000  2147.625000  166.125000   \n",
       "max    995.00000   25.200000   67.200000  2556.800000  197.500000   \n",
       "\n",
       "                v5          v6          v7          v8          v9         v10  \n",
       "count   500.000000  500.000000  500.000000  500.000000  500.000000  500.000000  \n",
       "mean   4536.858200    1.001600    2.107600    3.799600  538.805200   23.677000  \n",
       "std     354.197585    0.086559    0.170765    0.315021   41.981127    1.976893  \n",
       "min    3624.600000    0.800000    1.700000    3.000000  430.700000   19.000000  \n",
       "25%    4485.775000    1.000000    2.100000    3.800000  532.875000   23.500000  \n",
       "50%    4532.750000    1.000000    2.100000    3.800000  537.100000   23.700000  \n",
       "75%    4572.550000    1.000000    2.100000    3.800000  542.800000   23.900000  \n",
       "max    5430.000000    1.200000    2.500000    4.600000  644.300000   28.400000  "
      ]
     },
     "execution_count": 8,
     "metadata": {},
     "output_type": "execute_result"
    }
   ],
   "source": [
    "sustancias.describe()"
   ]
  },
  {
   "cell_type": "markdown",
   "metadata": {},
   "source": [
    "**Comparando valores**"
   ]
  },
  {
   "cell_type": "markdown",
   "metadata": {},
   "source": [
    "**v1 - v2**"
   ]
  },
  {
   "cell_type": "code",
   "execution_count": 9,
   "metadata": {},
   "outputs": [
    {
     "data": {
      "text/plain": [
       "<matplotlib.axes._subplots.AxesSubplot at 0x7f139b619f28>"
      ]
     },
     "execution_count": 9,
     "metadata": {},
     "output_type": "execute_result"
    },
    {
     "data": {
      "image/png": "[encoded data removed]",
      "text/plain": [
       "<Figure size 432x288 with 1 Axes>"
      ]
     },
     "metadata": {
      "needs_background": "light"
     },
     "output_type": "display_data"
    }
   ],
   "source": [
    "%matplotlib inline\n",
    "\n",
    "ax = sustancias[['v1', 'v2']].plot.scatter(x='v1', y='v2', c='blue')\n",
    "ax = veneno[['v1', 'v2']].plot.scatter(x='v1', y='v2', c='red', ax=ax)\n",
    "ax"
   ]
  },
  {
   "cell_type": "markdown",
   "metadata": {},
   "source": [
    "**v3 - v4**"
   ]
  },
  {
   "cell_type": "code",
   "execution_count": 10,
   "metadata": {
    "scrolled": true
   },
   "outputs": [
    {
     "data": {
      "text/plain": [
       "<matplotlib.axes._subplots.AxesSubplot at 0x7f139bbe36d8>"
      ]
     },
     "execution_count": 10,
     "metadata": {},
     "output_type": "execute_result"
    },
    {
     "data": {
      "image/png": "[encoded data removed]",
      "text/plain": [
       "<Figure size 432x288 with 1 Axes>"
      ]
     },
     "metadata": {
      "needs_background": "light"
     },
     "output_type": "display_data"
    }
   ],
   "source": [
    "%matplotlib inline\n",
    "\n",
    "ax = sustancias[['v3', 'v4']].plot.scatter(x='v3', y='v4', c='blue')\n",
    "ax = veneno[['v3', 'v4']].plot.scatter(x='v3', y='v4', c='red', ax=ax)\n",
    "ax"
   ]
  },
  {
   "cell_type": "markdown",
   "metadata": {},
   "source": [
    "Como los valores de veneno son muy parecidos al promedio del dataset, espero que todos lo valores se comporten como en las gráficas de arriba."
   ]
  },
  {
   "cell_type": "markdown",
   "metadata": {},
   "source": [
    "<a id='explica'></a>\n",
    "## Explica la idea general de tu solución con dibujos, diagramas, videos, legos, bolitas de plastilina, etc."
   ]
  },
  {
   "cell_type": "markdown",
   "metadata": {},
   "source": [
    "## Solución\n",
    "De acuerdo a lo encontrado en la exploración, el problema parece poder ser resuelto buscando las sustancias mas cercanas al modelo de sustancia venenosa (veneno.csv).\n",
    "\n",
    "Por lo tanto necesitamos una métrica de similitud o distancia, para encontrar las sustancias más parecidas al veneno. Se me ocurrieron dos opciones: usar distancia euclidiana o coseno.\n",
    "\n",
    "Esta imagen puede ayudar a entender la diferencia entre los dos métodos:\n",
    "\n",
    "![](https://cmry.github.io/sources/eucos.png)\n",
    "\n",
    "La parte azul es la medida usada por la distancia coseno y la parte roja es la medida usada por la distancia euclidiana.\n",
    "\n",
    "La imagen la encontré en este excelente artículo que explica sus diferencias muy bien:\n",
    "[https://cmry.github.io/sources/eucos.png](https://cmry.github.io/sources/eucos.png)"
   ]
  },
  {
   "cell_type": "markdown",
   "metadata": {},
   "source": [
    "**Proceso**:\n",
    "\n",
    "* Descubrir mejor métrica\n",
    "* Calcular la distancia de nuestro target con cada sustancia de los ríos.\n",
    "* Tomar las 50 más cercanas y alertar a la aldea."
   ]
  },
  {
   "cell_type": "markdown",
   "metadata": {},
   "source": [
    "### ¿Qué métrica usar?**\n",
    "\n",
    "Veamos que métrica nos funciona mejor.\n",
    "\n",
    "\n",
    "**Euclidean vs Cosine**\n",
    "\n",
    "$euclidean = \\sqrt{\\sum^n_{i=1} (x_i - y_i)^2}$ \n",
    "\n",
    "VS\n",
    "\n",
    "$cosine = \\frac{x \\bullet y}{ \\sqrt{x \\bullet x} \\sqrt{y \\bullet y}}$"
   ]
  },
  {
   "cell_type": "code",
   "execution_count": 11,
   "metadata": {},
   "outputs": [],
   "source": [
    "def euclidean_distance(x, y):   \n",
    "    return np.sqrt(np.sum((x - y) ** 2))\n",
    "\n",
    "def cosine_similarity(x, y):\n",
    "    return np.dot(x, y) / (np.sqrt(np.dot(x, x)) * np.sqrt(np.dot(y, y)))"
   ]
  },
  {
   "cell_type": "markdown",
   "metadata": {},
   "source": [
    "**Experimentos**\n",
    "\n",
    "Haremos 3 experimentos por cada métrica:\n",
    "* Calcular la distancia de dos sustancias muy similares.\n",
    "* Probaremos con dos sustancias iguales en dimensión 1 pero muy diferentes en dimensión 2.\n",
    "* Probaremos con dos sustancias diferentes en dimensión 1 e iguales en dimensión 2."
   ]
  },
  {
   "cell_type": "markdown",
   "metadata": {},
   "source": [
    "**Vectores de prueba**"
   ]
  },
  {
   "cell_type": "code",
   "execution_count": 12,
   "metadata": {},
   "outputs": [],
   "source": [
    "ven = np.array([21, 56])\n",
    "# muy cercano\n",
    "sus1 = np.array([20, 57])\n",
    "# igual en v1, lejano en v2\n",
    "sus2 = np.array([21, 90])\n",
    "# lejano en v1, igual en v2\n",
    "sus3 = np.array([9, 56])"
   ]
  },
  {
   "cell_type": "markdown",
   "metadata": {},
   "source": [
    "**Probando resultados cosenos**"
   ]
  },
  {
   "cell_type": "code",
   "execution_count": 13,
   "metadata": {},
   "outputs": [
    {
     "name": "stdout",
     "output_type": "stream",
     "text": [
      "cosine 1 =  0.9997728524910462\n",
      "cosine 2 =  0.9916215836629095\n",
      "cosine 3 =  0.9801818334822859\n"
     ]
    }
   ],
   "source": [
    "cos1 = cosine_similarity(sus1, ven)\n",
    "print('cosine 1 = ', cos1)\n",
    "cos2 = cosine_similarity(sus2, ven)\n",
    "print('cosine 2 = ', cos2)\n",
    "cos3 = cosine_similarity(sus3, ven)\n",
    "print('cosine 3 = ', cos3)"
   ]
  },
  {
   "cell_type": "markdown",
   "metadata": {},
   "source": [
    "**Probando resultados euclidianos**"
   ]
  },
  {
   "cell_type": "code",
   "execution_count": 14,
   "metadata": {},
   "outputs": [
    {
     "name": "stdout",
     "output_type": "stream",
     "text": [
      "euclidian 1 =  1.4142135623730951\n",
      "euclidian 2 =  34.0\n",
      "euclidian 3 =  12.0\n"
     ]
    }
   ],
   "source": [
    "euc1 = euclidean_distance(sus1, ven)\n",
    "print('euclidian 1 = ', euc1)\n",
    "euc2 = euclidean_distance(sus2, ven)\n",
    "print('euclidian 2 = ', euc2)\n",
    "euc3 = euclidean_distance(sus3, ven)\n",
    "print('euclidian 3 = ', euc3)"
   ]
  },
  {
   "cell_type": "markdown",
   "metadata": {},
   "source": [
    "**Mejor métrica**\n",
    "\n",
    "Como podemos ver en las pruebas, la métrica que mejor representa los resultados que necesitamos es la distancia euclidiana. La distancia coseno no hace mucho énfasis en vectores con valores iguales en algunos campos."
   ]
  },
  {
   "cell_type": "markdown",
   "metadata": {},
   "source": [
    "<a id='implementa'></a>\n",
    "## Implementa tu solución explicando los pasos que usas."
   ]
  },
  {
   "cell_type": "markdown",
   "metadata": {},
   "source": [
    "En este caso en particular nos interesa la magnitud de los vectores y no solo la diferencia en angulo del espacio vectorial, asi que como ya mencionamos usaremos distancia euclideana."
   ]
  },
  {
   "cell_type": "code",
   "execution_count": 15,
   "metadata": {},
   "outputs": [],
   "source": [
    "def is_your_river_poisoned(base, sus):\n",
    "    dist = euclidean_distance(sus, base)\n",
    "    return dist"
   ]
  },
  {
   "cell_type": "markdown",
   "metadata": {},
   "source": [
    "Guardamos los resulatdos en `similitud`."
   ]
  },
  {
   "cell_type": "code",
   "execution_count": 16,
   "metadata": {},
   "outputs": [],
   "source": [
    "base = veneno.drop('caracteristica', axis=1).values\n",
    "sustancias['distancia'] = sustancias.drop('id', axis=1).apply(lambda x: \n",
    "                         is_your_river_poisoned(base, x.values), axis=1)"
   ]
  },
  {
   "cell_type": "markdown",
   "metadata": {},
   "source": [
    "<a id='ordena'></a>\n",
    "## (Opcional) Si crees que es necesario ordenarlas en algún orden específico, indícalo.\n",
    "\n",
    "Las ordenaré por similitud, los ríos con sustancias mas similares deben ser cerrados primero."
   ]
  },
  {
   "cell_type": "code",
   "execution_count": 17,
   "metadata": {},
   "outputs": [],
   "source": [
    "urgent = sustancias.sort_values(by='distancia', axis=0, ascending=True)[:50]"
   ]
  },
  {
   "cell_type": "code",
   "execution_count": 20,
   "metadata": {},
   "outputs": [
    {
     "data": {
      "text/html": [
       "<div>\n",
       "<style scoped>\n",
       "    .dataframe tbody tr th:only-of-type {\n",
       "        vertical-align: middle;\n",
       "    }\n",
       "\n",
       "    .dataframe tbody tr th {\n",
       "        vertical-align: top;\n",
       "    }\n",
       "\n",
       "    .dataframe thead th {\n",
       "        text-align: right;\n",
       "    }\n",
       "</style>\n",
       "<table border=\"1\" class=\"dataframe\">\n",
       "  <thead>\n",
       "    <tr style=\"text-align: right;\">\n",
       "      <th></th>\n",
       "      <th>id</th>\n",
       "      <th>v1</th>\n",
       "      <th>v2</th>\n",
       "      <th>v3</th>\n",
       "      <th>v4</th>\n",
       "      <th>v5</th>\n",
       "      <th>v6</th>\n",
       "      <th>v7</th>\n",
       "      <th>v8</th>\n",
       "      <th>v9</th>\n",
       "      <th>v10</th>\n",
       "      <th>distancia</th>\n",
       "    </tr>\n",
       "  </thead>\n",
       "  <tbody>\n",
       "    <tr>\n",
       "      <th>351</th>\n",
       "      <td>374</td>\n",
       "      <td>21.2</td>\n",
       "      <td>56.2</td>\n",
       "      <td>2131.8</td>\n",
       "      <td>164.3</td>\n",
       "      <td>4526.1</td>\n",
       "      <td>1.0</td>\n",
       "      <td>2.1</td>\n",
       "      <td>3.8</td>\n",
       "      <td>535.9</td>\n",
       "      <td>23.6</td>\n",
       "      <td>2.826676</td>\n",
       "    </tr>\n",
       "    <tr>\n",
       "      <th>271</th>\n",
       "      <td>135</td>\n",
       "      <td>20.9</td>\n",
       "      <td>56.4</td>\n",
       "      <td>2130.9</td>\n",
       "      <td>163.1</td>\n",
       "      <td>4524.8</td>\n",
       "      <td>1.0</td>\n",
       "      <td>2.1</td>\n",
       "      <td>3.8</td>\n",
       "      <td>536.8</td>\n",
       "      <td>23.8</td>\n",
       "      <td>3.705415</td>\n",
       "    </tr>\n",
       "    <tr>\n",
       "      <th>270</th>\n",
       "      <td>320</td>\n",
       "      <td>21.2</td>\n",
       "      <td>55.6</td>\n",
       "      <td>2133.3</td>\n",
       "      <td>164.2</td>\n",
       "      <td>4526.8</td>\n",
       "      <td>1.0</td>\n",
       "      <td>2.1</td>\n",
       "      <td>3.8</td>\n",
       "      <td>541.8</td>\n",
       "      <td>23.8</td>\n",
       "      <td>4.430587</td>\n",
       "    </tr>\n",
       "    <tr>\n",
       "      <th>146</th>\n",
       "      <td>417</td>\n",
       "      <td>20.9</td>\n",
       "      <td>56.5</td>\n",
       "      <td>2131.6</td>\n",
       "      <td>163.9</td>\n",
       "      <td>4528.8</td>\n",
       "      <td>1.0</td>\n",
       "      <td>2.1</td>\n",
       "      <td>3.8</td>\n",
       "      <td>533.2</td>\n",
       "      <td>23.8</td>\n",
       "      <td>4.964887</td>\n",
       "    </tr>\n",
       "    <tr>\n",
       "      <th>260</th>\n",
       "      <td>265</td>\n",
       "      <td>20.9</td>\n",
       "      <td>55.9</td>\n",
       "      <td>2128.1</td>\n",
       "      <td>166.1</td>\n",
       "      <td>4527.9</td>\n",
       "      <td>1.0</td>\n",
       "      <td>2.1</td>\n",
       "      <td>3.8</td>\n",
       "      <td>541.9</td>\n",
       "      <td>23.8</td>\n",
       "      <td>5.327298</td>\n",
       "    </tr>\n",
       "  </tbody>\n",
       "</table>\n",
       "</div>"
      ],
      "text/plain": [
       "      id    v1    v2      v3     v4      v5   v6   v7   v8     v9   v10  \\\n",
       "351  374  21.2  56.2  2131.8  164.3  4526.1  1.0  2.1  3.8  535.9  23.6   \n",
       "271  135  20.9  56.4  2130.9  163.1  4524.8  1.0  2.1  3.8  536.8  23.8   \n",
       "270  320  21.2  55.6  2133.3  164.2  4526.8  1.0  2.1  3.8  541.8  23.8   \n",
       "146  417  20.9  56.5  2131.6  163.9  4528.8  1.0  2.1  3.8  533.2  23.8   \n",
       "260  265  20.9  55.9  2128.1  166.1  4527.9  1.0  2.1  3.8  541.9  23.8   \n",
       "\n",
       "     distancia  \n",
       "351   2.826676  \n",
       "271   3.705415  \n",
       "270   4.430587  \n",
       "146   4.964887  \n",
       "260   5.327298  "
      ]
     },
     "execution_count": 20,
     "metadata": {},
     "output_type": "execute_result"
    }
   ],
   "source": [
    "urgent.head(5)"
   ]
  },
  {
   "cell_type": "markdown",
   "metadata": {},
   "source": [
    "<a id='guarda'></a>\n",
    "## Guarda las 50 sustancias en un archivo nombrado urgente_orden_de_cierre.csv"
   ]
  },
  {
   "cell_type": "code",
   "execution_count": 19,
   "metadata": {},
   "outputs": [],
   "source": [
    "urgent.to_csv('soluciones/urgente_orden_de_cierre.csv')"
   ]
  }
 ],
 "metadata": {
  "kernelspec": {
   "display_name": "test",
   "language": "python",
   "name": "test"
  },
  "language_info": {
   "codemirror_mode": {
    "name": "ipython",
    "version": 3
   },
   "file_extension": ".py",
   "mimetype": "text/x-python",
   "name": "python",
   "nbconvert_exporter": "python",
   "pygments_lexer": "ipython3",
   "version": "3.6.8"
  }
 },
 "nbformat": 4,
 "nbformat_minor": 2
}
