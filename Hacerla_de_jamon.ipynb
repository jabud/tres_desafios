{
 "cells": [
  {
   "cell_type": "markdown",
   "metadata": {},
   "source": [
    "# Desafío para hacerla de jamón\n",
    "\n",
    "Una tribu pacífica de la isla tiene un concurso legendario de jamones. \n",
    "El jurado es muy longevo y este año ha perdido a más de la mitad de sus miembros. La tribu te ha enviado una base de datos (`score_de_jamonosidad.csv`) de los últimos concursos. En esta base de datos se enlistan distintos especímenes de jamones con la calificación que el jurado otorgó a cada uno. También has recibido una base de datos de jamones no calificados (`jamones_por_calificar.csv`) que deberás calificar, honrando el espíritu del jurado.\n",
    "\n",
    "* <a href=\"#exploration\">Explora tus datasets.</a>\n",
    "* <a href=\"#explica\">A. Explica la idea general de tu solución con dibujos, diagramas, videos, legos, bolitas\n",
    "de plastilina, etc.</a>\n",
    "* <a href=\"#implementa\">B. Implementa tu solución explicando los pasos.</a>\n",
    "* <a href=\"#completa\">C. Completa el archivo jamones_por_calificar.csv con tu veredicto.</a>"
   ]
  },
  {
   "cell_type": "markdown",
   "metadata": {},
   "source": [
    "<a id='exploration'></a>\n",
    "## Explorar data"
   ]
  },
  {
   "cell_type": "code",
   "execution_count": 1,
   "metadata": {},
   "outputs": [],
   "source": [
    "import pandas as pd\n",
    "import numpy as np"
   ]
  },
  {
   "cell_type": "code",
   "execution_count": 2,
   "metadata": {},
   "outputs": [],
   "source": [
    "train = pd.read_csv('datasets/score_de_jamonosidad.csv')\n",
    "test = pd.read_csv('datasets/jamones_por_calificar.csv')"
   ]
  },
  {
   "cell_type": "code",
   "execution_count": 3,
   "metadata": {},
   "outputs": [
    {
     "name": "stdout",
     "output_type": "stream",
     "text": [
      "<class 'pandas.core.frame.DataFrame'>\n",
      "RangeIndex: 28 entries, 0 to 27\n",
      "Data columns (total 5 columns):\n",
      "jamon    28 non-null int64\n",
      "score    28 non-null int64\n",
      "v1       28 non-null int64\n",
      "v2       28 non-null float64\n",
      "v3       28 non-null int64\n",
      "dtypes: float64(1), int64(4)\n",
      "memory usage: 1.2 KB\n"
     ]
    }
   ],
   "source": [
    "train.info()"
   ]
  },
  {
   "cell_type": "code",
   "execution_count": 4,
   "metadata": {},
   "outputs": [
    {
     "data": {
      "text/html": [
       "<div>\n",
       "<style scoped>\n",
       "    .dataframe tbody tr th:only-of-type {\n",
       "        vertical-align: middle;\n",
       "    }\n",
       "\n",
       "    .dataframe tbody tr th {\n",
       "        vertical-align: top;\n",
       "    }\n",
       "\n",
       "    .dataframe thead th {\n",
       "        text-align: right;\n",
       "    }\n",
       "</style>\n",
       "<table border=\"1\" class=\"dataframe\">\n",
       "  <thead>\n",
       "    <tr style=\"text-align: right;\">\n",
       "      <th></th>\n",
       "      <th>jamon</th>\n",
       "      <th>score</th>\n",
       "      <th>v1</th>\n",
       "      <th>v2</th>\n",
       "      <th>v3</th>\n",
       "    </tr>\n",
       "  </thead>\n",
       "  <tbody>\n",
       "    <tr>\n",
       "      <th>count</th>\n",
       "      <td>28.000000</td>\n",
       "      <td>28.000000</td>\n",
       "      <td>28.000000</td>\n",
       "      <td>28.000000</td>\n",
       "      <td>28.000000</td>\n",
       "    </tr>\n",
       "    <tr>\n",
       "      <th>mean</th>\n",
       "      <td>14.500000</td>\n",
       "      <td>6.964286</td>\n",
       "      <td>2127.214286</td>\n",
       "      <td>58.296429</td>\n",
       "      <td>2132.964286</td>\n",
       "    </tr>\n",
       "    <tr>\n",
       "      <th>std</th>\n",
       "      <td>8.225975</td>\n",
       "      <td>3.479912</td>\n",
       "      <td>499.116134</td>\n",
       "      <td>5.457342</td>\n",
       "      <td>367.711288</td>\n",
       "    </tr>\n",
       "    <tr>\n",
       "      <th>min</th>\n",
       "      <td>1.000000</td>\n",
       "      <td>0.000000</td>\n",
       "      <td>1414.000000</td>\n",
       "      <td>43.800000</td>\n",
       "      <td>1457.000000</td>\n",
       "    </tr>\n",
       "    <tr>\n",
       "      <th>25%</th>\n",
       "      <td>7.750000</td>\n",
       "      <td>4.000000</td>\n",
       "      <td>1714.000000</td>\n",
       "      <td>54.775000</td>\n",
       "      <td>1887.750000</td>\n",
       "    </tr>\n",
       "    <tr>\n",
       "      <th>50%</th>\n",
       "      <td>14.500000</td>\n",
       "      <td>6.500000</td>\n",
       "      <td>2106.000000</td>\n",
       "      <td>58.850000</td>\n",
       "      <td>2062.500000</td>\n",
       "    </tr>\n",
       "    <tr>\n",
       "      <th>75%</th>\n",
       "      <td>21.250000</td>\n",
       "      <td>10.000000</td>\n",
       "      <td>2474.250000</td>\n",
       "      <td>61.100000</td>\n",
       "      <td>2427.250000</td>\n",
       "    </tr>\n",
       "    <tr>\n",
       "      <th>max</th>\n",
       "      <td>28.000000</td>\n",
       "      <td>13.000000</td>\n",
       "      <td>2929.000000</td>\n",
       "      <td>68.500000</td>\n",
       "      <td>2876.000000</td>\n",
       "    </tr>\n",
       "  </tbody>\n",
       "</table>\n",
       "</div>"
      ],
      "text/plain": [
       "           jamon      score           v1         v2           v3\n",
       "count  28.000000  28.000000    28.000000  28.000000    28.000000\n",
       "mean   14.500000   6.964286  2127.214286  58.296429  2132.964286\n",
       "std     8.225975   3.479912   499.116134   5.457342   367.711288\n",
       "min     1.000000   0.000000  1414.000000  43.800000  1457.000000\n",
       "25%     7.750000   4.000000  1714.000000  54.775000  1887.750000\n",
       "50%    14.500000   6.500000  2106.000000  58.850000  2062.500000\n",
       "75%    21.250000  10.000000  2474.250000  61.100000  2427.250000\n",
       "max    28.000000  13.000000  2929.000000  68.500000  2876.000000"
      ]
     },
     "execution_count": 4,
     "metadata": {},
     "output_type": "execute_result"
    }
   ],
   "source": [
    "train.describe()"
   ]
  },
  {
   "cell_type": "markdown",
   "metadata": {},
   "source": [
    "**Checar tendencias**\n",
    "\n",
    "Se puede apreciar una ligera tendencia en cada una de las variables."
   ]
  },
  {
   "cell_type": "code",
   "execution_count": 5,
   "metadata": {},
   "outputs": [
    {
     "data": {
      "text/plain": [
       "(<matplotlib.axes._subplots.AxesSubplot at 0x7f6d1058cfd0>,\n",
       " <matplotlib.axes._subplots.AxesSubplot at 0x7f6d0e2c9898>,\n",
       " <matplotlib.axes._subplots.AxesSubplot at 0x7f6d0e221a58>)"
      ]
     },
     "execution_count": 5,
     "metadata": {},
     "output_type": "execute_result"
    },
    {
     "data": {
      "image/png": "[encoded data removed]",
      "text/plain": [
       "<Figure size 432x288 with 1 Axes>"
      ]
     },
     "metadata": {
      "needs_background": "light"
     },
     "output_type": "display_data"
    },
    {
     "data": {
      "image/png": "[encoded data removed]",
      "text/plain": [
       "<Figure size 432x288 with 1 Axes>"
      ]
     },
     "metadata": {
      "needs_background": "light"
     },
     "output_type": "display_data"
    },
    {
     "data": {
      "image/png": "[encoded data removed]",
      "text/plain": [
       "<Figure size 432x288 with 1 Axes>"
      ]
     },
     "metadata": {
      "needs_background": "light"
     },
     "output_type": "display_data"
    }
   ],
   "source": [
    "%matplotlib inline\n",
    "\n",
    "ax1 = train[['v1', 'score']].plot.scatter(x='v1', y='score', c='blue')\n",
    "ax2 = train[['v2', 'score']].plot.scatter(x='v2', y='score', c='red')\n",
    "ax3 = train[['v3', 'score']].plot.scatter(x='v3', y='score', c='green')\n",
    "ax1, ax2, ax3"
   ]
  },
  {
   "cell_type": "markdown",
   "metadata": {},
   "source": [
    "**Checando correlaciones**\n",
    "\n",
    "V2 y V3 parecen estar mas correlacionadas entre sí que con el score. Podría funcionar solo tomar una de las dos, si así fuese me quedaría con V3, ya que su correlación es mayor con el score comparado con V2."
   ]
  },
  {
   "cell_type": "code",
   "execution_count": 6,
   "metadata": {
    "scrolled": true
   },
   "outputs": [
    {
     "data": {
      "text/html": [
       "<style  type=\"text/css\" >\n",
       "    #T_7ac228e6_09c3_11ea_ad8d_701ce7e4445erow0_col0 {\n",
       "            background-color:  #00441b;\n",
       "            color:  #f1f1f1;\n",
       "        }    #T_7ac228e6_09c3_11ea_ad8d_701ce7e4445erow0_col1 {\n",
       "            background-color:  #58b668;\n",
       "            color:  #000000;\n",
       "        }    #T_7ac228e6_09c3_11ea_ad8d_701ce7e4445erow0_col2 {\n",
       "            background-color:  #268e47;\n",
       "            color:  #000000;\n",
       "        }    #T_7ac228e6_09c3_11ea_ad8d_701ce7e4445erow0_col3 {\n",
       "            background-color:  #f5fbf3;\n",
       "            color:  #000000;\n",
       "        }    #T_7ac228e6_09c3_11ea_ad8d_701ce7e4445erow1_col0 {\n",
       "            background-color:  #319a50;\n",
       "            color:  #000000;\n",
       "        }    #T_7ac228e6_09c3_11ea_ad8d_701ce7e4445erow1_col1 {\n",
       "            background-color:  #00441b;\n",
       "            color:  #f1f1f1;\n",
       "        }    #T_7ac228e6_09c3_11ea_ad8d_701ce7e4445erow1_col2 {\n",
       "            background-color:  #bbe4b4;\n",
       "            color:  #000000;\n",
       "        }    #T_7ac228e6_09c3_11ea_ad8d_701ce7e4445erow1_col3 {\n",
       "            background-color:  #90d18d;\n",
       "            color:  #000000;\n",
       "        }    #T_7ac228e6_09c3_11ea_ad8d_701ce7e4445erow2_col0 {\n",
       "            background-color:  #278f48;\n",
       "            color:  #000000;\n",
       "        }    #T_7ac228e6_09c3_11ea_ad8d_701ce7e4445erow2_col1 {\n",
       "            background-color:  #f7fcf5;\n",
       "            color:  #000000;\n",
       "        }    #T_7ac228e6_09c3_11ea_ad8d_701ce7e4445erow2_col2 {\n",
       "            background-color:  #00441b;\n",
       "            color:  #f1f1f1;\n",
       "        }    #T_7ac228e6_09c3_11ea_ad8d_701ce7e4445erow2_col3 {\n",
       "            background-color:  #f7fcf5;\n",
       "            color:  #000000;\n",
       "        }    #T_7ac228e6_09c3_11ea_ad8d_701ce7e4445erow3_col0 {\n",
       "            background-color:  #f7fcf5;\n",
       "            color:  #000000;\n",
       "        }    #T_7ac228e6_09c3_11ea_ad8d_701ce7e4445erow3_col1 {\n",
       "            background-color:  #d7efd1;\n",
       "            color:  #000000;\n",
       "        }    #T_7ac228e6_09c3_11ea_ad8d_701ce7e4445erow3_col2 {\n",
       "            background-color:  #f7fcf5;\n",
       "            color:  #000000;\n",
       "        }    #T_7ac228e6_09c3_11ea_ad8d_701ce7e4445erow3_col3 {\n",
       "            background-color:  #00441b;\n",
       "            color:  #f1f1f1;\n",
       "        }</style><table id=\"T_7ac228e6_09c3_11ea_ad8d_701ce7e4445e\" ><thead>    <tr>        <th class=\"blank level0\" ></th>        <th class=\"col_heading level0 col0\" >score</th>        <th class=\"col_heading level0 col1\" >v1</th>        <th class=\"col_heading level0 col2\" >v2</th>        <th class=\"col_heading level0 col3\" >v3</th>    </tr></thead><tbody>\n",
       "                <tr>\n",
       "                        <th id=\"T_7ac228e6_09c3_11ea_ad8d_701ce7e4445elevel0_row0\" class=\"row_heading level0 row0\" >score</th>\n",
       "                        <td id=\"T_7ac228e6_09c3_11ea_ad8d_701ce7e4445erow0_col0\" class=\"data row0 col0\" >1</td>\n",
       "                        <td id=\"T_7ac228e6_09c3_11ea_ad8d_701ce7e4445erow0_col1\" class=\"data row0 col1\" >0.482735</td>\n",
       "                        <td id=\"T_7ac228e6_09c3_11ea_ad8d_701ce7e4445erow0_col2\" class=\"data row0 col2\" >0.557565</td>\n",
       "                        <td id=\"T_7ac228e6_09c3_11ea_ad8d_701ce7e4445erow0_col3\" class=\"data row0 col3\" >-0.658654</td>\n",
       "            </tr>\n",
       "            <tr>\n",
       "                        <th id=\"T_7ac228e6_09c3_11ea_ad8d_701ce7e4445elevel0_row1\" class=\"row_heading level0 row1\" >v1</th>\n",
       "                        <td id=\"T_7ac228e6_09c3_11ea_ad8d_701ce7e4445erow1_col0\" class=\"data row1 col0\" >0.482735</td>\n",
       "                        <td id=\"T_7ac228e6_09c3_11ea_ad8d_701ce7e4445erow1_col1\" class=\"data row1 col1\" >1</td>\n",
       "                        <td id=\"T_7ac228e6_09c3_11ea_ad8d_701ce7e4445erow1_col2\" class=\"data row1 col2\" >-0.194074</td>\n",
       "                        <td id=\"T_7ac228e6_09c3_11ea_ad8d_701ce7e4445erow1_col3\" class=\"data row1 col3\" >0.0296435</td>\n",
       "            </tr>\n",
       "            <tr>\n",
       "                        <th id=\"T_7ac228e6_09c3_11ea_ad8d_701ce7e4445elevel0_row2\" class=\"row_heading level0 row2\" >v2</th>\n",
       "                        <td id=\"T_7ac228e6_09c3_11ea_ad8d_701ce7e4445erow2_col0\" class=\"data row2 col0\" >0.557565</td>\n",
       "                        <td id=\"T_7ac228e6_09c3_11ea_ad8d_701ce7e4445erow2_col1\" class=\"data row2 col1\" >-0.194074</td>\n",
       "                        <td id=\"T_7ac228e6_09c3_11ea_ad8d_701ce7e4445erow2_col2\" class=\"data row2 col2\" >1</td>\n",
       "                        <td id=\"T_7ac228e6_09c3_11ea_ad8d_701ce7e4445erow2_col3\" class=\"data row2 col3\" >-0.67986</td>\n",
       "            </tr>\n",
       "            <tr>\n",
       "                        <th id=\"T_7ac228e6_09c3_11ea_ad8d_701ce7e4445elevel0_row3\" class=\"row_heading level0 row3\" >v3</th>\n",
       "                        <td id=\"T_7ac228e6_09c3_11ea_ad8d_701ce7e4445erow3_col0\" class=\"data row3 col0\" >-0.658654</td>\n",
       "                        <td id=\"T_7ac228e6_09c3_11ea_ad8d_701ce7e4445erow3_col1\" class=\"data row3 col1\" >0.0296435</td>\n",
       "                        <td id=\"T_7ac228e6_09c3_11ea_ad8d_701ce7e4445erow3_col2\" class=\"data row3 col2\" >-0.67986</td>\n",
       "                        <td id=\"T_7ac228e6_09c3_11ea_ad8d_701ce7e4445erow3_col3\" class=\"data row3 col3\" >1</td>\n",
       "            </tr>\n",
       "    </tbody></table>"
      ],
      "text/plain": [
       "<pandas.io.formats.style.Styler at 0x7f6d0e1618d0>"
      ]
     },
     "execution_count": 6,
     "metadata": {},
     "output_type": "execute_result"
    }
   ],
   "source": [
    "corrs =  train[['score', 'v1', 'v2', 'v3']].corr()\n",
    "corrs.style.background_gradient(cmap='Greens')"
   ]
  },
  {
   "cell_type": "markdown",
   "metadata": {},
   "source": [
    "<a id='explica'></a>\n",
    "## A. Explica la idea general de tu solución con dibujos, diagramas, videos, legos, bolitas de plastilina, etc.\n",
    "\n",
    "Mi solución consiste en usar una **regresión lineal múltiple**.\n",
    "\n",
    "Una regresión lineal básicamente trata de ajustar una línea a los datos tratando de minimizar el cuadrado del error.\n",
    "\n",
    "$Error = \\sum_i (Estimacion_i - y_i)^2$, \n",
    "\n",
    "donde $Estimacion = \\sum_i (mx_i + b)$\n",
    "\n",
    "La forma en que se minimiza el error es usando derivadas parciales, haciendola igual a 0, ya que la función de error es convexa.\n",
    "\n",
    "Ejemplo de función convexa del error:\n",
    "\n",
    "![](https://raw.githubusercontent.com/jfreek/math_animations/master/examples/derivative.gif)\n",
    "\n",
    "Al hacerla igual a 0 encontramos justo el punto mínimo.\n",
    "\n",
    "Esta animación que puede explicar regresión lineal visualmente (Aunque en el ejemplo usa gradient descent):\n",
    "\n",
    "![](https://raw.githubusercontent.com/jfreek/math_animations/master/examples/e3e4.gif)\n",
    "\n",
    "Después de minimizar el error tenemos un modelo robusto que nos puede ayudar a estimar nuevos valores.\n",
    "O en otras palabras encontramos los coeficientes y la intersección que nos dieron el resultado de menor error.\n",
    "\n",
    "Una regresión lineal multiple hace esto pero para cada variable, teniendo una combinación de coeficientes como resultado.\n",
    "\n",
    "$res = C_1x_1 + C_2x_2 + C_3x_3 + b $\n",
    "\n",
    "Ahora solo tenemos que sustituir nuevos valores de $x_i$ y podremos tener estimaciones."
   ]
  },
  {
   "cell_type": "markdown",
   "metadata": {},
   "source": [
    "<a id='implementa'></a>\n",
    "## B. Implementa tu solución explicando los pasos.\n",
    "\n",
    "\n",
    "### Regresión lineal\n",
    "\n",
    "Me parece buena idea intentar hacer una regresión lineal con todas las variables como primer intento."
   ]
  },
  {
   "cell_type": "code",
   "execution_count": 7,
   "metadata": {},
   "outputs": [
    {
     "name": "stdout",
     "output_type": "stream",
     "text": [
      "coeffs =  [ 0.0039765   0.24777098 -0.00389329]\n",
      "intercept =  -7.634488210072695\n",
      "R^2 =  0.6892776250117992\n",
      "mse =  2.7682422993868387\n"
     ]
    }
   ],
   "source": [
    "from sklearn.linear_model import LinearRegression\n",
    "from sklearn.metrics import r2_score, mean_squared_error\n",
    "\n",
    "dep = train['score'].values\n",
    "ind = train.drop(['score', 'jamon'], axis=1).values.reshape(-1,3)\n",
    "\n",
    "reg1 = LinearRegression()\n",
    "reg1.fit(ind, dep)\n",
    "\n",
    "print('coeffs = ', reg1.coef_)\n",
    "print('intercept = ', reg1.intercept_)\n",
    "\n",
    "y = reg1.predict(ind)\n",
    "print('R^2 = ', r2_score(y, dep))\n",
    "print('mse = ', mean_squared_error(y, dep))"
   ]
  },
  {
   "cell_type": "markdown",
   "metadata": {},
   "source": [
    "Los coeficientes nos dicen que el valor con mayor peso al hacer una estimación es V2, una unidad de cambio en esta variable afecta 0.24 al resultado. V3 esta aportando de forma negativa como esperabamos.\n",
    "\n",
    "Veamos qué pasa si quitamos v2, como mencionamos unos pasos arriba."
   ]
  },
  {
   "cell_type": "markdown",
   "metadata": {},
   "source": [
    "**Dropping v2**\n",
    "\n",
    "De acuerdo a las correlaciones V2 esta mas correlacionada con V3 que con el score, por lo tanto veamos que pasa al quitarla."
   ]
  },
  {
   "cell_type": "code",
   "execution_count": 8,
   "metadata": {},
   "outputs": [
    {
     "name": "stdout",
     "output_type": "stream",
     "text": [
      "coeffs =  [ 0.00350491 -0.00637434]\n",
      "intercept =  13.104832998237914\n",
      "R^2 =  0.5429370028060064\n",
      "mse =  3.66302615731004\n"
     ]
    }
   ],
   "source": [
    "dep = train['score'].values\n",
    "ind = train.drop(['score', 'jamon', 'v2'], axis=1).values.reshape(-1,2)\n",
    "\n",
    "reg2 = LinearRegression()\n",
    "reg2.fit(ind, dep)\n",
    "\n",
    "print('coeffs = ', reg2.coef_)\n",
    "print('intercept = ', reg2.intercept_)\n",
    "\n",
    "y = reg2.predict(ind)\n",
    "print('R^2 = ', r2_score(y, dep))\n",
    "print('mse = ', mean_squared_error(y, dep))"
   ]
  },
  {
   "cell_type": "markdown",
   "metadata": {},
   "source": [
    "Los resultados en el coeficiente de determinación son diferentes casi por 0.14, y el `mean squared error` nos dice que el primer modelo hace un mejor trabajo, lo cual es consistente con la metrica R^2.\n",
    "\n",
    "Por lo tanto nos quedaremos con el primer modelo."
   ]
  },
  {
   "cell_type": "markdown",
   "metadata": {},
   "source": [
    "<a id='completa'></a>\n",
    "## C. Completa el archivo jamones_por_calificar.csv con tu veredicto."
   ]
  },
  {
   "cell_type": "code",
   "execution_count": 9,
   "metadata": {},
   "outputs": [],
   "source": [
    "ind = test.drop(['score', 'jamon'], axis=1).values.reshape(-1,3)\n",
    "predictions = reg1.predict(ind)\n",
    "\n",
    "test['score'] = predictions"
   ]
  },
  {
   "cell_type": "code",
   "execution_count": 10,
   "metadata": {},
   "outputs": [
    {
     "data": {
      "text/html": [
       "<div>\n",
       "<style scoped>\n",
       "    .dataframe tbody tr th:only-of-type {\n",
       "        vertical-align: middle;\n",
       "    }\n",
       "\n",
       "    .dataframe tbody tr th {\n",
       "        vertical-align: top;\n",
       "    }\n",
       "\n",
       "    .dataframe thead th {\n",
       "        text-align: right;\n",
       "    }\n",
       "</style>\n",
       "<table border=\"1\" class=\"dataframe\">\n",
       "  <thead>\n",
       "    <tr style=\"text-align: right;\">\n",
       "      <th></th>\n",
       "      <th>jamon</th>\n",
       "      <th>score</th>\n",
       "      <th>v1</th>\n",
       "      <th>v2</th>\n",
       "      <th>v3</th>\n",
       "    </tr>\n",
       "  </thead>\n",
       "  <tbody>\n",
       "    <tr>\n",
       "      <th>0</th>\n",
       "      <td>29</td>\n",
       "      <td>9.230151</td>\n",
       "      <td>2383</td>\n",
       "      <td>59</td>\n",
       "      <td>1857</td>\n",
       "    </tr>\n",
       "    <tr>\n",
       "      <th>1</th>\n",
       "      <td>30</td>\n",
       "      <td>3.337671</td>\n",
       "      <td>1598</td>\n",
       "      <td>61</td>\n",
       "      <td>2696</td>\n",
       "    </tr>\n",
       "    <tr>\n",
       "      <th>2</th>\n",
       "      <td>31</td>\n",
       "      <td>13.169421</td>\n",
       "      <td>2883</td>\n",
       "      <td>67</td>\n",
       "      <td>1865</td>\n",
       "    </tr>\n",
       "    <tr>\n",
       "      <th>3</th>\n",
       "      <td>32</td>\n",
       "      <td>6.777708</td>\n",
       "      <td>2898</td>\n",
       "      <td>56</td>\n",
       "      <td>2822</td>\n",
       "    </tr>\n",
       "    <tr>\n",
       "      <th>4</th>\n",
       "      <td>33</td>\n",
       "      <td>8.661536</td>\n",
       "      <td>2877</td>\n",
       "      <td>44</td>\n",
       "      <td>1553</td>\n",
       "    </tr>\n",
       "    <tr>\n",
       "      <th>5</th>\n",
       "      <td>34</td>\n",
       "      <td>3.365009</td>\n",
       "      <td>1966</td>\n",
       "      <td>55</td>\n",
       "      <td>2683</td>\n",
       "    </tr>\n",
       "    <tr>\n",
       "      <th>6</th>\n",
       "      <td>35</td>\n",
       "      <td>4.829660</td>\n",
       "      <td>1786</td>\n",
       "      <td>66</td>\n",
       "      <td>2823</td>\n",
       "    </tr>\n",
       "    <tr>\n",
       "      <th>7</th>\n",
       "      <td>36</td>\n",
       "      <td>10.599623</td>\n",
       "      <td>2813</td>\n",
       "      <td>63</td>\n",
       "      <td>2199</td>\n",
       "    </tr>\n",
       "    <tr>\n",
       "      <th>8</th>\n",
       "      <td>37</td>\n",
       "      <td>8.195240</td>\n",
       "      <td>2882</td>\n",
       "      <td>52</td>\n",
       "      <td>2187</td>\n",
       "    </tr>\n",
       "    <tr>\n",
       "      <th>9</th>\n",
       "      <td>38</td>\n",
       "      <td>10.042945</td>\n",
       "      <td>2859</td>\n",
       "      <td>49</td>\n",
       "      <td>1498</td>\n",
       "    </tr>\n",
       "    <tr>\n",
       "      <th>10</th>\n",
       "      <td>39</td>\n",
       "      <td>10.098959</td>\n",
       "      <td>2334</td>\n",
       "      <td>64</td>\n",
       "      <td>1902</td>\n",
       "    </tr>\n",
       "  </tbody>\n",
       "</table>\n",
       "</div>"
      ],
      "text/plain": [
       "    jamon      score    v1  v2    v3\n",
       "0      29   9.230151  2383  59  1857\n",
       "1      30   3.337671  1598  61  2696\n",
       "2      31  13.169421  2883  67  1865\n",
       "3      32   6.777708  2898  56  2822\n",
       "4      33   8.661536  2877  44  1553\n",
       "5      34   3.365009  1966  55  2683\n",
       "6      35   4.829660  1786  66  2823\n",
       "7      36  10.599623  2813  63  2199\n",
       "8      37   8.195240  2882  52  2187\n",
       "9      38  10.042945  2859  49  1498\n",
       "10     39  10.098959  2334  64  1902"
      ]
     },
     "execution_count": 10,
     "metadata": {},
     "output_type": "execute_result"
    }
   ],
   "source": [
    "test"
   ]
  },
  {
   "cell_type": "code",
   "execution_count": 11,
   "metadata": {},
   "outputs": [],
   "source": [
    "test.to_csv('soluciones/jamones_por_calificar.csv')"
   ]
  }
 ],
 "metadata": {
  "kernelspec": {
   "display_name": "test",
   "language": "python",
   "name": "test"
  },
  "language_info": {
   "codemirror_mode": {
    "name": "ipython",
    "version": 3
   },
   "file_extension": ".py",
   "mimetype": "text/x-python",
   "name": "python",
   "nbconvert_exporter": "python",
   "pygments_lexer": "ipython3",
   "version": "3.6.8"
  }
 },
 "nbformat": 4,
 "nbformat_minor": 2
}
