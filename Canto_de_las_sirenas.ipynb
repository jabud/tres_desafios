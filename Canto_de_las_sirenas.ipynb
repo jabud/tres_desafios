{
 "cells": [
  {
   "cell_type": "markdown",
   "metadata": {},
   "source": [
    "# Desafío El Seductor Canto de las Sirenas\n",
    "\n",
    "Las sirenas endémicas que rodean la isla donde se encuentra tu celda tienen un seductor canto con el que atraen a sus machos y aseguran la persistencia de sus especie. \n",
    "Ha emigrado, solicitando refugio, una especie de sirenas de otros lares. Esta especie emite un sonido que interfiere con el canto de las sirenas endémicas. El guardián del océano va a delimitar una región para cada especie y pide tu ayuda para distribuirlas. \n",
    "Tú recibiste una base de datos (`sirenas_endemicas_y_sirenas_migrantes_historico.csv`) que el museo de historia natural te ha facilitado con características de individuos de cada especie. Recibiste también una base de datos con los individuos que el guardián va a clasificar (`sirenas_endemicas_y_sirenas_migrantes.csv`). Indica en esta última, a qué especie de sirena pertenece cada individuo.\n",
    "\n",
    "* <a href=\"#exploration\">Explora tus datasets.</a>\n",
    "* <a href=\"#explica\">A. Explica la idea general de tu solución con dibujos, diagramas, videos, legos, bolitas de plastilina, etc.</a>\n",
    "* <a href=\"#implementa\">B. Implementa tu modelo explicando los pasos.</a>\n",
    "* <a href=\"#completa\">C. Completa el archivo (sirenas_endemicas_y_sirenas_migrantes.csv que entregarás al guardián.</a>\n",
    "* <a href=\"#completa\">Extra</a>"
   ]
  },
  {
   "cell_type": "markdown",
   "metadata": {},
   "source": [
    "<a id='exploration'></a>\n",
    "## Explorar datasets"
   ]
  },
  {
   "cell_type": "code",
   "execution_count": 1,
   "metadata": {},
   "outputs": [],
   "source": [
    "import pandas as pd\n",
    "import numpy as np\n",
    "import matplotlib.pyplot as plt"
   ]
  },
  {
   "cell_type": "code",
   "execution_count": 2,
   "metadata": {},
   "outputs": [],
   "source": [
    "hist = pd.read_csv('datasets/sirenas_endemicas_y_sirenas_migrantes_historico.csv')\n",
    "test = pd.read_csv('datasets/sirenas_endemicas_y_sirenas_migrantes.csv')"
   ]
  },
  {
   "cell_type": "code",
   "execution_count": 3,
   "metadata": {},
   "outputs": [
    {
     "data": {
      "text/html": [
       "<div>\n",
       "<style scoped>\n",
       "    .dataframe tbody tr th:only-of-type {\n",
       "        vertical-align: middle;\n",
       "    }\n",
       "\n",
       "    .dataframe tbody tr th {\n",
       "        vertical-align: top;\n",
       "    }\n",
       "\n",
       "    .dataframe thead th {\n",
       "        text-align: right;\n",
       "    }\n",
       "</style>\n",
       "<table border=\"1\" class=\"dataframe\">\n",
       "  <thead>\n",
       "    <tr style=\"text-align: right;\">\n",
       "      <th></th>\n",
       "      <th>v1</th>\n",
       "      <th>v2</th>\n",
       "      <th>v3</th>\n",
       "      <th>v4</th>\n",
       "      <th>especie</th>\n",
       "    </tr>\n",
       "  </thead>\n",
       "  <tbody>\n",
       "    <tr>\n",
       "      <th>0</th>\n",
       "      <td>4.3</td>\n",
       "      <td>3.0</td>\n",
       "      <td>1.1</td>\n",
       "      <td>0.1</td>\n",
       "      <td>sirena_migrante</td>\n",
       "    </tr>\n",
       "    <tr>\n",
       "      <th>1</th>\n",
       "      <td>4.8</td>\n",
       "      <td>3.0</td>\n",
       "      <td>1.4</td>\n",
       "      <td>0.1</td>\n",
       "      <td>sirena_migrante</td>\n",
       "    </tr>\n",
       "    <tr>\n",
       "      <th>2</th>\n",
       "      <td>4.9</td>\n",
       "      <td>3.1</td>\n",
       "      <td>1.5</td>\n",
       "      <td>0.1</td>\n",
       "      <td>sirena_migrante</td>\n",
       "    </tr>\n",
       "    <tr>\n",
       "      <th>3</th>\n",
       "      <td>4.9</td>\n",
       "      <td>3.1</td>\n",
       "      <td>1.5</td>\n",
       "      <td>0.1</td>\n",
       "      <td>sirena_migrante</td>\n",
       "    </tr>\n",
       "    <tr>\n",
       "      <th>4</th>\n",
       "      <td>4.9</td>\n",
       "      <td>3.1</td>\n",
       "      <td>1.5</td>\n",
       "      <td>0.1</td>\n",
       "      <td>sirena_migrante</td>\n",
       "    </tr>\n",
       "  </tbody>\n",
       "</table>\n",
       "</div>"
      ],
      "text/plain": [
       "    v1   v2   v3   v4          especie\n",
       "0  4.3  3.0  1.1  0.1  sirena_migrante\n",
       "1  4.8  3.0  1.4  0.1  sirena_migrante\n",
       "2  4.9  3.1  1.5  0.1  sirena_migrante\n",
       "3  4.9  3.1  1.5  0.1  sirena_migrante\n",
       "4  4.9  3.1  1.5  0.1  sirena_migrante"
      ]
     },
     "execution_count": 3,
     "metadata": {},
     "output_type": "execute_result"
    }
   ],
   "source": [
    "hist.head()"
   ]
  },
  {
   "cell_type": "markdown",
   "metadata": {},
   "source": [
    "No hay valores nulos"
   ]
  },
  {
   "cell_type": "code",
   "execution_count": 4,
   "metadata": {},
   "outputs": [
    {
     "name": "stdout",
     "output_type": "stream",
     "text": [
      "<class 'pandas.core.frame.DataFrame'>\n",
      "RangeIndex: 100 entries, 0 to 99\n",
      "Data columns (total 5 columns):\n",
      "v1         100 non-null float64\n",
      "v2         100 non-null float64\n",
      "v3         100 non-null float64\n",
      "v4         100 non-null float64\n",
      "especie    100 non-null object\n",
      "dtypes: float64(4), object(1)\n",
      "memory usage: 4.0+ KB\n"
     ]
    }
   ],
   "source": [
    "hist.info()"
   ]
  },
  {
   "cell_type": "code",
   "execution_count": 5,
   "metadata": {},
   "outputs": [
    {
     "data": {
      "text/html": [
       "<div>\n",
       "<style scoped>\n",
       "    .dataframe tbody tr th:only-of-type {\n",
       "        vertical-align: middle;\n",
       "    }\n",
       "\n",
       "    .dataframe tbody tr th {\n",
       "        vertical-align: top;\n",
       "    }\n",
       "\n",
       "    .dataframe thead th {\n",
       "        text-align: right;\n",
       "    }\n",
       "</style>\n",
       "<table border=\"1\" class=\"dataframe\">\n",
       "  <thead>\n",
       "    <tr style=\"text-align: right;\">\n",
       "      <th></th>\n",
       "      <th>v1</th>\n",
       "      <th>v2</th>\n",
       "      <th>v3</th>\n",
       "      <th>v4</th>\n",
       "    </tr>\n",
       "  </thead>\n",
       "  <tbody>\n",
       "    <tr>\n",
       "      <th>count</th>\n",
       "      <td>100.000000</td>\n",
       "      <td>100.000000</td>\n",
       "      <td>100.000000</td>\n",
       "      <td>100.000000</td>\n",
       "    </tr>\n",
       "    <tr>\n",
       "      <th>mean</th>\n",
       "      <td>5.797000</td>\n",
       "      <td>3.196000</td>\n",
       "      <td>3.508000</td>\n",
       "      <td>1.135000</td>\n",
       "    </tr>\n",
       "    <tr>\n",
       "      <th>std</th>\n",
       "      <td>0.945319</td>\n",
       "      <td>0.416071</td>\n",
       "      <td>2.094229</td>\n",
       "      <td>0.919198</td>\n",
       "    </tr>\n",
       "    <tr>\n",
       "      <th>min</th>\n",
       "      <td>4.300000</td>\n",
       "      <td>2.200000</td>\n",
       "      <td>1.000000</td>\n",
       "      <td>0.100000</td>\n",
       "    </tr>\n",
       "    <tr>\n",
       "      <th>25%</th>\n",
       "      <td>5.000000</td>\n",
       "      <td>3.000000</td>\n",
       "      <td>1.500000</td>\n",
       "      <td>0.200000</td>\n",
       "    </tr>\n",
       "    <tr>\n",
       "      <th>50%</th>\n",
       "      <td>5.700000</td>\n",
       "      <td>3.150000</td>\n",
       "      <td>3.200000</td>\n",
       "      <td>1.000000</td>\n",
       "    </tr>\n",
       "    <tr>\n",
       "      <th>75%</th>\n",
       "      <td>6.500000</td>\n",
       "      <td>3.400000</td>\n",
       "      <td>5.525000</td>\n",
       "      <td>2.000000</td>\n",
       "    </tr>\n",
       "    <tr>\n",
       "      <th>max</th>\n",
       "      <td>7.900000</td>\n",
       "      <td>4.400000</td>\n",
       "      <td>6.900000</td>\n",
       "      <td>2.500000</td>\n",
       "    </tr>\n",
       "  </tbody>\n",
       "</table>\n",
       "</div>"
      ],
      "text/plain": [
       "               v1          v2          v3          v4\n",
       "count  100.000000  100.000000  100.000000  100.000000\n",
       "mean     5.797000    3.196000    3.508000    1.135000\n",
       "std      0.945319    0.416071    2.094229    0.919198\n",
       "min      4.300000    2.200000    1.000000    0.100000\n",
       "25%      5.000000    3.000000    1.500000    0.200000\n",
       "50%      5.700000    3.150000    3.200000    1.000000\n",
       "75%      6.500000    3.400000    5.525000    2.000000\n",
       "max      7.900000    4.400000    6.900000    2.500000"
      ]
     },
     "execution_count": 5,
     "metadata": {},
     "output_type": "execute_result"
    }
   ],
   "source": [
    "hist.describe()"
   ]
  },
  {
   "cell_type": "markdown",
   "metadata": {},
   "source": [
    "Hay duplicados!\n",
    "\n",
    "Pero no estoy seguro de que son exactamente los valores duplicados.\n",
    "\n",
    "Tres sirenas pueden compartir valores dependiendo de que sean, Hay sirenas trillizas?.\n",
    "Creo que es mejor dejar los valores."
   ]
  },
  {
   "cell_type": "code",
   "execution_count": 6,
   "metadata": {},
   "outputs": [
    {
     "data": {
      "text/html": [
       "<div>\n",
       "<style scoped>\n",
       "    .dataframe tbody tr th:only-of-type {\n",
       "        vertical-align: middle;\n",
       "    }\n",
       "\n",
       "    .dataframe tbody tr th {\n",
       "        vertical-align: top;\n",
       "    }\n",
       "\n",
       "    .dataframe thead th {\n",
       "        text-align: right;\n",
       "    }\n",
       "</style>\n",
       "<table border=\"1\" class=\"dataframe\">\n",
       "  <thead>\n",
       "    <tr style=\"text-align: right;\">\n",
       "      <th></th>\n",
       "      <th>v1</th>\n",
       "      <th>v2</th>\n",
       "      <th>v3</th>\n",
       "      <th>v4</th>\n",
       "      <th>especie</th>\n",
       "    </tr>\n",
       "  </thead>\n",
       "  <tbody>\n",
       "    <tr>\n",
       "      <th>3</th>\n",
       "      <td>4.9</td>\n",
       "      <td>3.1</td>\n",
       "      <td>1.5</td>\n",
       "      <td>0.1</td>\n",
       "      <td>sirena_migrante</td>\n",
       "    </tr>\n",
       "    <tr>\n",
       "      <th>4</th>\n",
       "      <td>4.9</td>\n",
       "      <td>3.1</td>\n",
       "      <td>1.5</td>\n",
       "      <td>0.1</td>\n",
       "      <td>sirena_migrante</td>\n",
       "    </tr>\n",
       "    <tr>\n",
       "      <th>68</th>\n",
       "      <td>5.8</td>\n",
       "      <td>2.7</td>\n",
       "      <td>5.1</td>\n",
       "      <td>1.9</td>\n",
       "      <td>sirena_endemica</td>\n",
       "    </tr>\n",
       "  </tbody>\n",
       "</table>\n",
       "</div>"
      ],
      "text/plain": [
       "     v1   v2   v3   v4          especie\n",
       "3   4.9  3.1  1.5  0.1  sirena_migrante\n",
       "4   4.9  3.1  1.5  0.1  sirena_migrante\n",
       "68  5.8  2.7  5.1  1.9  sirena_endemica"
      ]
     },
     "execution_count": 6,
     "metadata": {},
     "output_type": "execute_result"
    }
   ],
   "source": [
    "hist[hist.duplicated()]"
   ]
  },
  {
   "cell_type": "markdown",
   "metadata": {},
   "source": [
    "Balance de clases"
   ]
  },
  {
   "cell_type": "code",
   "execution_count": 7,
   "metadata": {},
   "outputs": [
    {
     "data": {
      "text/plain": [
       "sirena_migrante    50\n",
       "sirena_endemica    50\n",
       "Name: especie, dtype: int64"
      ]
     },
     "execution_count": 7,
     "metadata": {},
     "output_type": "execute_result"
    }
   ],
   "source": [
    "hist['especie'].value_counts()"
   ]
  },
  {
   "cell_type": "markdown",
   "metadata": {},
   "source": [
    "Labels binarios"
   ]
  },
  {
   "cell_type": "code",
   "execution_count": 8,
   "metadata": {},
   "outputs": [],
   "source": [
    "hist['target'] = hist['especie'].map(lambda x: 1 if x=='sirena_endemica' else 0)"
   ]
  },
  {
   "cell_type": "code",
   "execution_count": 9,
   "metadata": {},
   "outputs": [
    {
     "data": {
      "text/html": [
       "<div>\n",
       "<style scoped>\n",
       "    .dataframe tbody tr th:only-of-type {\n",
       "        vertical-align: middle;\n",
       "    }\n",
       "\n",
       "    .dataframe tbody tr th {\n",
       "        vertical-align: top;\n",
       "    }\n",
       "\n",
       "    .dataframe thead th {\n",
       "        text-align: right;\n",
       "    }\n",
       "</style>\n",
       "<table border=\"1\" class=\"dataframe\">\n",
       "  <thead>\n",
       "    <tr style=\"text-align: right;\">\n",
       "      <th></th>\n",
       "      <th>v1</th>\n",
       "      <th>v2</th>\n",
       "      <th>v3</th>\n",
       "      <th>v4</th>\n",
       "      <th>especie</th>\n",
       "      <th>target</th>\n",
       "    </tr>\n",
       "  </thead>\n",
       "  <tbody>\n",
       "    <tr>\n",
       "      <th>0</th>\n",
       "      <td>4.3</td>\n",
       "      <td>3.0</td>\n",
       "      <td>1.1</td>\n",
       "      <td>0.1</td>\n",
       "      <td>sirena_migrante</td>\n",
       "      <td>0</td>\n",
       "    </tr>\n",
       "    <tr>\n",
       "      <th>1</th>\n",
       "      <td>4.8</td>\n",
       "      <td>3.0</td>\n",
       "      <td>1.4</td>\n",
       "      <td>0.1</td>\n",
       "      <td>sirena_migrante</td>\n",
       "      <td>0</td>\n",
       "    </tr>\n",
       "    <tr>\n",
       "      <th>2</th>\n",
       "      <td>4.9</td>\n",
       "      <td>3.1</td>\n",
       "      <td>1.5</td>\n",
       "      <td>0.1</td>\n",
       "      <td>sirena_migrante</td>\n",
       "      <td>0</td>\n",
       "    </tr>\n",
       "    <tr>\n",
       "      <th>3</th>\n",
       "      <td>4.9</td>\n",
       "      <td>3.1</td>\n",
       "      <td>1.5</td>\n",
       "      <td>0.1</td>\n",
       "      <td>sirena_migrante</td>\n",
       "      <td>0</td>\n",
       "    </tr>\n",
       "    <tr>\n",
       "      <th>4</th>\n",
       "      <td>4.9</td>\n",
       "      <td>3.1</td>\n",
       "      <td>1.5</td>\n",
       "      <td>0.1</td>\n",
       "      <td>sirena_migrante</td>\n",
       "      <td>0</td>\n",
       "    </tr>\n",
       "  </tbody>\n",
       "</table>\n",
       "</div>"
      ],
      "text/plain": [
       "    v1   v2   v3   v4          especie  target\n",
       "0  4.3  3.0  1.1  0.1  sirena_migrante       0\n",
       "1  4.8  3.0  1.4  0.1  sirena_migrante       0\n",
       "2  4.9  3.1  1.5  0.1  sirena_migrante       0\n",
       "3  4.9  3.1  1.5  0.1  sirena_migrante       0\n",
       "4  4.9  3.1  1.5  0.1  sirena_migrante       0"
      ]
     },
     "execution_count": 9,
     "metadata": {},
     "output_type": "execute_result"
    }
   ],
   "source": [
    "hist.head()"
   ]
  },
  {
   "cell_type": "markdown",
   "metadata": {},
   "source": [
    "**Comparar cada variable con el target**\n",
    "\n",
    "Quiero ver que tanta información nos puede dar cada variable tomando en cuenta la diferencia entre clases."
   ]
  },
  {
   "cell_type": "code",
   "execution_count": 10,
   "metadata": {},
   "outputs": [
    {
     "data": {
      "image/png": "[encoded data removed]",
      "text/plain": [
       "<Figure size 432x288 with 1 Axes>"
      ]
     },
     "metadata": {
      "needs_background": "light"
     },
     "output_type": "display_data"
    }
   ],
   "source": [
    "x1 = hist[hist['target']==1]['v1'].mean()\n",
    "x2 = hist[hist['target']==0]['v1'].mean()\n",
    "\n",
    "objects = ('v1 endemica', 'v1 migrante')\n",
    "y_pos = np.arange(len(objects))\n",
    "performance = [x1, x2]\n",
    "\n",
    "plt.bar(y_pos, performance, align='center', alpha=0.5)\n",
    "plt.xticks(y_pos, objects)\n",
    "plt.ylabel('Mean')\n",
    "plt.title('v1')\n",
    "\n",
    "plt.show()"
   ]
  },
  {
   "cell_type": "code",
   "execution_count": 11,
   "metadata": {},
   "outputs": [
    {
     "data": {
      "image/png": "[encoded data removed]",
      "text/plain": [
       "<Figure size 432x288 with 1 Axes>"
      ]
     },
     "metadata": {
      "needs_background": "light"
     },
     "output_type": "display_data"
    }
   ],
   "source": [
    "x1 = hist[hist['target']==1]['v2'].mean()\n",
    "x2 = hist[hist['target']==0]['v2'].mean()\n",
    "\n",
    "objects = ('v2 endemica', 'v2 migrante')\n",
    "y_pos = np.arange(len(objects))\n",
    "performance = [x1, x2]\n",
    "\n",
    "plt.bar(y_pos, performance, align='center', alpha=0.5)\n",
    "plt.xticks(y_pos, objects)\n",
    "plt.ylabel('Mean')\n",
    "plt.title('v2')\n",
    "\n",
    "plt.show()"
   ]
  },
  {
   "cell_type": "code",
   "execution_count": 12,
   "metadata": {},
   "outputs": [
    {
     "data": {
      "image/png": "[encoded data removed]",
      "text/plain": [
       "<Figure size 432x288 with 1 Axes>"
      ]
     },
     "metadata": {
      "needs_background": "light"
     },
     "output_type": "display_data"
    }
   ],
   "source": [
    "x1 = hist[hist['target']==1]['v3'].mean()\n",
    "x2 = hist[hist['target']==0]['v3'].mean()\n",
    "\n",
    "objects = ('v3 endemica', 'v3 migrante')\n",
    "y_pos = np.arange(len(objects))\n",
    "performance = [x1, x2]\n",
    "\n",
    "plt.bar(y_pos, performance, align='center', alpha=0.5)\n",
    "plt.xticks(y_pos, objects)\n",
    "plt.ylabel('Mean')\n",
    "plt.title('v3')\n",
    "\n",
    "plt.show()"
   ]
  },
  {
   "cell_type": "code",
   "execution_count": 13,
   "metadata": {},
   "outputs": [
    {
     "data": {
      "image/png": "[encoded data removed]",
      "text/plain": [
       "<Figure size 432x288 with 1 Axes>"
      ]
     },
     "metadata": {
      "needs_background": "light"
     },
     "output_type": "display_data"
    }
   ],
   "source": [
    "x1 = hist[hist['target']==1]['v4'].mean()\n",
    "x2 = hist[hist['target']==0]['v4'].mean()\n",
    "\n",
    "objects = ('v4 endemica', 'v4 migrante')\n",
    "y_pos = np.arange(len(objects))\n",
    "performance = [x1, x2]\n",
    "\n",
    "plt.bar(y_pos, performance, align='center', alpha=0.5)\n",
    "plt.xticks(y_pos, objects)\n",
    "plt.ylabel('Mean')\n",
    "plt.title('v4')\n",
    "\n",
    "plt.show()"
   ]
  },
  {
   "cell_type": "markdown",
   "metadata": {},
   "source": [
    "Segun las tablas v4 y v3 nos ayudarán más a identificar una sirena de otra."
   ]
  },
  {
   "cell_type": "markdown",
   "metadata": {},
   "source": [
    "**Correlaciones**\n",
    "\n",
    "Los resultados de las correlaciones coinciden con lo anterior.\n",
    "\n",
    "Observación: V1 esta muy correlacionada con V3.\n",
    "\n",
    "Todas en general tienen fuerte corr con el target."
   ]
  },
  {
   "cell_type": "code",
   "execution_count": 14,
   "metadata": {},
   "outputs": [
    {
     "data": {
      "text/html": [
       "<style  type=\"text/css\" >\n",
       "    #T_894631e4_0a5b_11ea_a67b_701ce7e4445erow0_col0 {\n",
       "            background-color:  #08306b;\n",
       "            color:  #f1f1f1;\n",
       "        }    #T_894631e4_0a5b_11ea_a67b_701ce7e4445erow0_col1 {\n",
       "            background-color:  #09529d;\n",
       "            color:  #f1f1f1;\n",
       "        }    #T_894631e4_0a5b_11ea_a67b_701ce7e4445erow0_col2 {\n",
       "            background-color:  #f7fbff;\n",
       "            color:  #000000;\n",
       "        }    #T_894631e4_0a5b_11ea_a67b_701ce7e4445erow0_col3 {\n",
       "            background-color:  #083370;\n",
       "            color:  #f1f1f1;\n",
       "        }    #T_894631e4_0a5b_11ea_a67b_701ce7e4445erow0_col4 {\n",
       "            background-color:  #083471;\n",
       "            color:  #f1f1f1;\n",
       "        }    #T_894631e4_0a5b_11ea_a67b_701ce7e4445erow1_col0 {\n",
       "            background-color:  #084b93;\n",
       "            color:  #f1f1f1;\n",
       "        }    #T_894631e4_0a5b_11ea_a67b_701ce7e4445erow1_col1 {\n",
       "            background-color:  #08306b;\n",
       "            color:  #f1f1f1;\n",
       "        }    #T_894631e4_0a5b_11ea_a67b_701ce7e4445erow1_col2 {\n",
       "            background-color:  #cde0f1;\n",
       "            color:  #000000;\n",
       "        }    #T_894631e4_0a5b_11ea_a67b_701ce7e4445erow1_col3 {\n",
       "            background-color:  #084184;\n",
       "            color:  #f1f1f1;\n",
       "        }    #T_894631e4_0a5b_11ea_a67b_701ce7e4445erow1_col4 {\n",
       "            background-color:  #084a91;\n",
       "            color:  #f1f1f1;\n",
       "        }    #T_894631e4_0a5b_11ea_a67b_701ce7e4445erow2_col0 {\n",
       "            background-color:  #f7fbff;\n",
       "            color:  #000000;\n",
       "        }    #T_894631e4_0a5b_11ea_a67b_701ce7e4445erow2_col1 {\n",
       "            background-color:  #f7fbff;\n",
       "            color:  #000000;\n",
       "        }    #T_894631e4_0a5b_11ea_a67b_701ce7e4445erow2_col2 {\n",
       "            background-color:  #08306b;\n",
       "            color:  #f1f1f1;\n",
       "        }    #T_894631e4_0a5b_11ea_a67b_701ce7e4445erow2_col3 {\n",
       "            background-color:  #f7fbff;\n",
       "            color:  #000000;\n",
       "        }    #T_894631e4_0a5b_11ea_a67b_701ce7e4445erow2_col4 {\n",
       "            background-color:  #f7fbff;\n",
       "            color:  #000000;\n",
       "        }    #T_894631e4_0a5b_11ea_a67b_701ce7e4445erow3_col0 {\n",
       "            background-color:  #083370;\n",
       "            color:  #f1f1f1;\n",
       "        }    #T_894631e4_0a5b_11ea_a67b_701ce7e4445erow3_col1 {\n",
       "            background-color:  #08458a;\n",
       "            color:  #f1f1f1;\n",
       "        }    #T_894631e4_0a5b_11ea_a67b_701ce7e4445erow3_col2 {\n",
       "            background-color:  #f0f6fd;\n",
       "            color:  #000000;\n",
       "        }    #T_894631e4_0a5b_11ea_a67b_701ce7e4445erow3_col3 {\n",
       "            background-color:  #08306b;\n",
       "            color:  #f1f1f1;\n",
       "        }    #T_894631e4_0a5b_11ea_a67b_701ce7e4445erow3_col4 {\n",
       "            background-color:  #083573;\n",
       "            color:  #f1f1f1;\n",
       "        }    #T_894631e4_0a5b_11ea_a67b_701ce7e4445erow4_col0 {\n",
       "            background-color:  #083471;\n",
       "            color:  #f1f1f1;\n",
       "        }    #T_894631e4_0a5b_11ea_a67b_701ce7e4445erow4_col1 {\n",
       "            background-color:  #08509b;\n",
       "            color:  #f1f1f1;\n",
       "        }    #T_894631e4_0a5b_11ea_a67b_701ce7e4445erow4_col2 {\n",
       "            background-color:  #ebf3fb;\n",
       "            color:  #000000;\n",
       "        }    #T_894631e4_0a5b_11ea_a67b_701ce7e4445erow4_col3 {\n",
       "            background-color:  #083573;\n",
       "            color:  #f1f1f1;\n",
       "        }    #T_894631e4_0a5b_11ea_a67b_701ce7e4445erow4_col4 {\n",
       "            background-color:  #08306b;\n",
       "            color:  #f1f1f1;\n",
       "        }</style><table id=\"T_894631e4_0a5b_11ea_a67b_701ce7e4445e\" ><thead>    <tr>        <th class=\"blank level0\" ></th>        <th class=\"col_heading level0 col0\" >target</th>        <th class=\"col_heading level0 col1\" >v1</th>        <th class=\"col_heading level0 col2\" >v2</th>        <th class=\"col_heading level0 col3\" >v3</th>        <th class=\"col_heading level0 col4\" >v4</th>    </tr></thead><tbody>\n",
       "                <tr>\n",
       "                        <th id=\"T_894631e4_0a5b_11ea_a67b_701ce7e4445elevel0_row0\" class=\"row_heading level0 row0\" >target</th>\n",
       "                        <td id=\"T_894631e4_0a5b_11ea_a67b_701ce7e4445erow0_col0\" class=\"data row0 col0\" >1</td>\n",
       "                        <td id=\"T_894631e4_0a5b_11ea_a67b_701ce7e4445erow0_col1\" class=\"data row0 col1\" >0.84097</td>\n",
       "                        <td id=\"T_894631e4_0a5b_11ea_a67b_701ce7e4445erow0_col2\" class=\"data row0 col2\" >-0.536251</td>\n",
       "                        <td id=\"T_894631e4_0a5b_11ea_a67b_701ce7e4445erow0_col3\" class=\"data row0 col3\" >0.980933</td>\n",
       "                        <td id=\"T_894631e4_0a5b_11ea_a67b_701ce7e4445erow0_col4\" class=\"data row0 col4\" >0.974207</td>\n",
       "            </tr>\n",
       "            <tr>\n",
       "                        <th id=\"T_894631e4_0a5b_11ea_a67b_701ce7e4445elevel0_row1\" class=\"row_heading level0 row1\" >v1</th>\n",
       "                        <td id=\"T_894631e4_0a5b_11ea_a67b_701ce7e4445erow1_col0\" class=\"data row1 col0\" >0.84097</td>\n",
       "                        <td id=\"T_894631e4_0a5b_11ea_a67b_701ce7e4445erow1_col1\" class=\"data row1 col1\" >1</td>\n",
       "                        <td id=\"T_894631e4_0a5b_11ea_a67b_701ce7e4445erow1_col2\" class=\"data row1 col2\" >-0.206766</td>\n",
       "                        <td id=\"T_894631e4_0a5b_11ea_a67b_701ce7e4445erow1_col3\" class=\"data row1 col3\" >0.904796</td>\n",
       "                        <td id=\"T_894631e4_0a5b_11ea_a67b_701ce7e4445erow1_col4\" class=\"data row1 col4\" >0.853251</td>\n",
       "            </tr>\n",
       "            <tr>\n",
       "                        <th id=\"T_894631e4_0a5b_11ea_a67b_701ce7e4445elevel0_row2\" class=\"row_heading level0 row2\" >v2</th>\n",
       "                        <td id=\"T_894631e4_0a5b_11ea_a67b_701ce7e4445erow2_col0\" class=\"data row2 col0\" >-0.536251</td>\n",
       "                        <td id=\"T_894631e4_0a5b_11ea_a67b_701ce7e4445erow2_col1\" class=\"data row2 col1\" >-0.206766</td>\n",
       "                        <td id=\"T_894631e4_0a5b_11ea_a67b_701ce7e4445erow2_col2\" class=\"data row2 col2\" >1</td>\n",
       "                        <td id=\"T_894631e4_0a5b_11ea_a67b_701ce7e4445erow2_col3\" class=\"data row2 col3\" >-0.478845</td>\n",
       "                        <td id=\"T_894631e4_0a5b_11ea_a67b_701ce7e4445erow2_col4\" class=\"data row2 col4\" >-0.44598</td>\n",
       "            </tr>\n",
       "            <tr>\n",
       "                        <th id=\"T_894631e4_0a5b_11ea_a67b_701ce7e4445elevel0_row3\" class=\"row_heading level0 row3\" >v3</th>\n",
       "                        <td id=\"T_894631e4_0a5b_11ea_a67b_701ce7e4445erow3_col0\" class=\"data row3 col0\" >0.980933</td>\n",
       "                        <td id=\"T_894631e4_0a5b_11ea_a67b_701ce7e4445erow3_col1\" class=\"data row3 col1\" >0.904796</td>\n",
       "                        <td id=\"T_894631e4_0a5b_11ea_a67b_701ce7e4445erow3_col2\" class=\"data row3 col2\" >-0.478845</td>\n",
       "                        <td id=\"T_894631e4_0a5b_11ea_a67b_701ce7e4445erow3_col3\" class=\"data row3 col3\" >1</td>\n",
       "                        <td id=\"T_894631e4_0a5b_11ea_a67b_701ce7e4445erow3_col4\" class=\"data row3 col4\" >0.96965</td>\n",
       "            </tr>\n",
       "            <tr>\n",
       "                        <th id=\"T_894631e4_0a5b_11ea_a67b_701ce7e4445elevel0_row4\" class=\"row_heading level0 row4\" >v4</th>\n",
       "                        <td id=\"T_894631e4_0a5b_11ea_a67b_701ce7e4445erow4_col0\" class=\"data row4 col0\" >0.974207</td>\n",
       "                        <td id=\"T_894631e4_0a5b_11ea_a67b_701ce7e4445erow4_col1\" class=\"data row4 col1\" >0.853251</td>\n",
       "                        <td id=\"T_894631e4_0a5b_11ea_a67b_701ce7e4445erow4_col2\" class=\"data row4 col2\" >-0.44598</td>\n",
       "                        <td id=\"T_894631e4_0a5b_11ea_a67b_701ce7e4445erow4_col3\" class=\"data row4 col3\" >0.96965</td>\n",
       "                        <td id=\"T_894631e4_0a5b_11ea_a67b_701ce7e4445erow4_col4\" class=\"data row4 col4\" >1</td>\n",
       "            </tr>\n",
       "    </tbody></table>"
      ],
      "text/plain": [
       "<pandas.io.formats.style.Styler at 0x7f3a9ed34ac8>"
      ]
     },
     "execution_count": 14,
     "metadata": {},
     "output_type": "execute_result"
    }
   ],
   "source": [
    "corrs = hist[['target', 'v1', 'v2', 'v3', 'v4']].corr()\n",
    "corrs.style.background_gradient(cmap='Blues')"
   ]
  },
  {
   "cell_type": "markdown",
   "metadata": {},
   "source": [
    "**Graficando puntos**\n",
    "\n",
    "Parece ser un dataset muy sencillo de separar de forma lineal."
   ]
  },
  {
   "cell_type": "code",
   "execution_count": 15,
   "metadata": {},
   "outputs": [
    {
     "data": {
      "text/plain": [
       "(<matplotlib.axes._subplots.AxesSubplot at 0x7f3a9e841198>,\n",
       " <matplotlib.axes._subplots.AxesSubplot at 0x7f3a9e804da0>,\n",
       " <matplotlib.axes._subplots.AxesSubplot at 0x7f3a9e765358>)"
      ]
     },
     "execution_count": 15,
     "metadata": {},
     "output_type": "execute_result"
    },
    {
     "data": {
      "image/png": "[encoded data removed]",
      "text/plain": [
       "<Figure size 432x288 with 1 Axes>"
      ]
     },
     "metadata": {
      "needs_background": "light"
     },
     "output_type": "display_data"
    },
    {
     "data": {
      "image/png": "[encoded data removed]",
      "text/plain": [
       "<Figure size 432x288 with 1 Axes>"
      ]
     },
     "metadata": {
      "needs_background": "light"
     },
     "output_type": "display_data"
    },
    {
     "data": {
      "image/png": "[encoded data removed]",
      "text/plain": [
       "<Figure size 432x288 with 1 Axes>"
      ]
     },
     "metadata": {
      "needs_background": "light"
     },
     "output_type": "display_data"
    }
   ],
   "source": [
    "%matplotlib inline\n",
    "\n",
    "ax = hist[hist['target']==1].plot.scatter(x='v1', y='v2', c='green')\n",
    "ax = hist[hist['target']==0].plot.scatter(x='v1', y='v2', c='red', ax=ax)\n",
    "\n",
    "ax2 = hist[hist['target']==1].plot.scatter(x='v2', y='v3', c='green')\n",
    "ax2 = hist[hist['target']==0].plot.scatter(x='v2', y='v3', c='red', ax=ax2)\n",
    "\n",
    "ax3 = hist[hist['target']==1].plot.scatter(x='v3', y='v4', c='green')\n",
    "ax3 = hist[hist['target']==0].plot.scatter(x='v3', y='v4', c='red', ax=ax3)\n",
    "\n",
    "ax, ax2, ax3"
   ]
  },
  {
   "cell_type": "markdown",
   "metadata": {},
   "source": [
    "**Graficando con el target**"
   ]
  },
  {
   "cell_type": "code",
   "execution_count": 16,
   "metadata": {},
   "outputs": [
    {
     "data": {
      "text/plain": [
       "(<matplotlib.axes._subplots.AxesSubplot at 0x7f3a9e6edf28>,\n",
       " <matplotlib.axes._subplots.AxesSubplot at 0x7f3a9e6bdfd0>)"
      ]
     },
     "execution_count": 16,
     "metadata": {},
     "output_type": "execute_result"
    },
    {
     "data": {
      "image/png": "[encoded data removed]",
      "text/plain": [
       "<Figure size 432x288 with 1 Axes>"
      ]
     },
     "metadata": {
      "needs_background": "light"
     },
     "output_type": "display_data"
    },
    {
     "data": {
      "image/png": "[encoded data removed]",
      "text/plain": [
       "<Figure size 432x288 with 1 Axes>"
      ]
     },
     "metadata": {
      "needs_background": "light"
     },
     "output_type": "display_data"
    },
    {
     "data": {
      "image/png": "[encoded data removed]",
      "text/plain": [
       "<Figure size 432x288 with 1 Axes>"
      ]
     },
     "metadata": {
      "needs_background": "light"
     },
     "output_type": "display_data"
    },
    {
     "data": {
      "image/png": "[encoded data removed]",
      "text/plain": [
       "<Figure size 432x288 with 1 Axes>"
      ]
     },
     "metadata": {
      "needs_background": "light"
     },
     "output_type": "display_data"
    }
   ],
   "source": [
    "%matplotlib inline\n",
    "\n",
    "ax = hist[['v1', 'target']].plot.scatter(x='v1', y='target', c='blue')\n",
    "\n",
    "ax2 = hist[['v2', 'target']].plot.scatter(x='v2', y='target', c='red')\n",
    "\n",
    "ax3 = hist[['v3', 'target']].plot.scatter(x='v3', y='target', c='green')\n",
    "\n",
    "ax4 = hist[['v4', 'target']].plot.scatter(x='v4', y='target', c='black')\n",
    "\n",
    "ax, ax2"
   ]
  },
  {
   "cell_type": "markdown",
   "metadata": {},
   "source": [
    "<a id='explica'></a>\n",
    "## A. Explica la idea general de tu solución con dibujos, diagramas, videos, legos, bolitas de plastilina, etc.\n",
    "\n",
    "Me parece que fácilmente podríamos usar un SVM o una regresión logística. En realidad no veo ninguna razón para elegir un modelo u otro así que mi criterio será por el material que tengo para explicar los pasos.\n",
    "\n",
    "La solución que usaremos será una regresión logística. \n",
    "Este método utiliza una función lineal que toma en cuenta los coeficientes de cada variable, y los resultados son transformados a valores entre 0 y 1, usando la función logit o sigmoide.\n",
    "\n",
    "\\begin{align}\n",
    "&z = C_1x_1 + C_2x_2 + C_3x_3 + C_4x_4+ b \\\\\n",
    "&Sigmoid =\\frac{1}{1 + e^z} \\\\\n",
    "\\end{align}\n",
    "\n",
    "\n",
    "Esta animación muestra un ejemplo de cómo cada coeficiente modifica la función:\n",
    "\n",
    "![](https://raw.githubusercontent.com/jfreek/math_animations/master/examples/sigmoidfunc.gif)\n",
    "\n",
    "\n",
    "El algoritmo busca los coeficientes tales que la función sigmoide regrese como resultado la probabilidad máxima de observar nuestros datos, o en otras palabras la función de optimización es **Maximum likelihood estimation**.\n",
    "\n",
    "$$\n",
    "L(\\beta) = \\prod_{j=1}^{n}(P(x_i;\\beta)^{y_i})(1-P(x_i;\\beta)^{1-y_i})\n",
    "$$\n",
    "\n",
    "Con un ligero cambio al agregar logaritmos por conveniencia matemática y computacional.\n",
    "\n",
    "$$\n",
    "l(\\beta) = \\sum_{j=1}^{n}(y_i)ln(P(x_i;\\beta)) + (1-y_i)ln(1-P(x_i;\\beta))\n",
    "$$\n",
    "\n",
    "### Proceso\n",
    "* Estimar una primera función lineal\n",
    "* Pasar función lineal por función sigmoide\n",
    "* Calcular la diferencia entre mi estimación y los datos observados, de cada variable. En otras palabras la derivada. Esta derivada en realidad solo la usamos para usar el gradiente, o en otras palabras la dirección al a que queremos modificar nuestro resultado para tener un error menor.\n",
    "* Actualizar coeficientes usando el gradiente y el learnign rate.\n",
    "* Actualizar función lienal y sigmoide.\n",
    "* Calcular MLE\n",
    "* **Repetimos hasta maximizar MLE**\n",
    "\n",
    "Esta animación muestra un ejemplo para visualizar el algoritmo ajustando la función sigmoide a nuestros datos:\n",
    "\n",
    "![](https://raw.githubusercontent.com/jfreek/math_animations/master/examples/s_solution.gif)\n",
    "\n",
    "Al final tenemos un modelo que nos da la probabilidad de un nuevo dato de ser de una clase o de otra. Usualmente se utiliza un threshold para decidir asignarle un valor discreto de 0 o 1."
   ]
  },
  {
   "cell_type": "markdown",
   "metadata": {},
   "source": [
    "<a id='implementa'></a>\n",
    "## B. Implementa tu modelo explicando los pasos."
   ]
  },
  {
   "cell_type": "markdown",
   "metadata": {},
   "source": [
    "**Inicializando parametros del modelo**"
   ]
  },
  {
   "cell_type": "code",
   "execution_count": 17,
   "metadata": {},
   "outputs": [],
   "source": [
    "X_train = hist.drop([\"target\", \"especie\"], axis=1)\n",
    "Y_train = hist[\"target\"]\n",
    "\n",
    "lr = 0.01\n",
    "num_iter = 30000\n",
    "fit_intercept = True\n",
    "verbose = 10000"
   ]
  },
  {
   "cell_type": "markdown",
   "metadata": {},
   "source": [
    "**Creamos nuestras funciones Sigmoide y de MLE**"
   ]
  },
  {
   "cell_type": "code",
   "execution_count": 18,
   "metadata": {},
   "outputs": [],
   "source": [
    "def sigmoid(z):\n",
    "    return 1 / (1 + np.exp(-z))\n",
    "\n",
    "def mle(h, y):\n",
    "    return (y * np.log(h) + (1 - y) * np.log(1 - h)).sum()"
   ]
  },
  {
   "cell_type": "markdown",
   "metadata": {},
   "source": [
    "**funciones para estimar probabilidades y estimar valores discretos**\n",
    "\n",
    "Nota: Al hacer el `round`, usamos un threshold de 0.5."
   ]
  },
  {
   "cell_type": "code",
   "execution_count": 19,
   "metadata": {},
   "outputs": [],
   "source": [
    "def predict_prob(X):\n",
    "    if fit_intercept:\n",
    "        intercept = np.ones((X.shape[0], 1))\n",
    "        X = np.concatenate((intercept, X), axis=1)\n",
    "    return sigmoid(np.dot(X, coeffs))\n",
    "\n",
    "def predict(X):\n",
    "    return predict_prob(X).round()"
   ]
  },
  {
   "cell_type": "code",
   "execution_count": 20,
   "metadata": {},
   "outputs": [
    {
     "name": "stdout",
     "output_type": "stream",
     "text": [
      "loss: -67.9588556520177 \t\n",
      "loss: -0.3889944460165427 \t\n",
      "loss: -0.19808407395809172 \t\n"
     ]
    }
   ],
   "source": [
    "# agregar interseccion en su caso\n",
    "if fit_intercept:\n",
    "    intercept = np.ones((X_train.shape[0], 1))\n",
    "    X_train = np.concatenate((intercept, X_train), axis=1)\n",
    "    \n",
    "# inicializamos coeficientes en 0\n",
    "coeffs = np.zeros(X_train.shape[1])\n",
    "\n",
    "# iteramos con los datos, repetimos el proceso hasta llegar al error minimo.\n",
    "for i in range(num_iter):\n",
    "    # funcion linear\n",
    "    z = np.dot(X_train, coeffs)\n",
    "    # funcion linear pasando por sigmoid\n",
    "    h = sigmoid(z)\n",
    "    # calculo de gradiente\n",
    "    gradient = np.dot(X_train.T, (h - Y_train)) / Y_train.size\n",
    "    # actualizando coeficientes, moviendolos un poco en direccion del gradiente\n",
    "    coeffs -= lr * gradient\n",
    "    \n",
    "    # actualizando funcion linear con nuevos coeficientes\n",
    "    z = np.dot(X_train, coeffs)\n",
    "    # pasando fucion por sigmoid\n",
    "    h = sigmoid(z)\n",
    "    # calculando mle\n",
    "    loss = mle(h, Y_train)\n",
    "    # imprimir resultados mle\n",
    "    if(verbose and i % verbose == 0):\n",
    "        print(f'loss: {loss} \\t')"
   ]
  },
  {
   "cell_type": "markdown",
   "metadata": {},
   "source": [
    "<a id='completa'></a>\n",
    "## C. Completa el archivo (sirenas_endemicas_y_sirenas_migrantes.csv que entregarás al guardián."
   ]
  },
  {
   "cell_type": "code",
   "execution_count": 23,
   "metadata": {},
   "outputs": [],
   "source": [
    "# valores de datos sin clasificar\n",
    "new = test.drop('especie', axis=1).values\n",
    "# calculando clases\n",
    "predictions = predict(new)\n",
    "# asignar resultados\n",
    "test['especie'] = predictions"
   ]
  },
  {
   "cell_type": "code",
   "execution_count": 24,
   "metadata": {},
   "outputs": [],
   "source": [
    "# guardar en csv\n",
    "test.to_csv('soluciones/sirenas_endemicas_y_sirenas_migrantes.csv')"
   ]
  },
  {
   "cell_type": "markdown",
   "metadata": {},
   "source": [
    "<a id='extra'></a>\n",
    "## Extra: usando sklearn "
   ]
  },
  {
   "cell_type": "code",
   "execution_count": 25,
   "metadata": {},
   "outputs": [],
   "source": [
    "from sklearn.linear_model import LogisticRegression\n",
    "from sklearn.model_selection import cross_validate\n",
    "\n",
    "X_train = hist.drop([\"target\", \"especie\"], axis=1)\n",
    "Y_train = hist[\"target\"]"
   ]
  },
  {
   "cell_type": "code",
   "execution_count": 26,
   "metadata": {},
   "outputs": [
    {
     "name": "stdout",
     "output_type": "stream",
     "text": [
      "Train accuracy: 1.0\n",
      "Test accuracy: 1.0\n",
      "Train f1_macro: 1.0\n",
      "Test f1_macro: 1.0\n"
     ]
    }
   ],
   "source": [
    "logreg = LogisticRegression(solver='liblinear')\n",
    "scores = cross_validate(logreg, X_train, Y_train, cv=10, \n",
    "                        scoring=['accuracy', 'f1_macro'], return_train_score=True)\n",
    "\n",
    "print(\"Train accuracy:\", scores['train_accuracy'].mean())\n",
    "print(\"Test accuracy:\", scores['test_accuracy'].mean())\n",
    "\n",
    "print(\"Train f1_macro:\", scores['train_f1_macro'].mean())\n",
    "print(\"Test f1_macro:\", scores['test_f1_macro'].mean())"
   ]
  },
  {
   "cell_type": "code",
   "execution_count": 27,
   "metadata": {},
   "outputs": [
    {
     "data": {
      "text/plain": [
       "LogisticRegression(C=1.0, class_weight=None, dual=False, fit_intercept=True,\n",
       "                   intercept_scaling=1, l1_ratio=None, max_iter=100,\n",
       "                   multi_class='warn', n_jobs=None, penalty='l2',\n",
       "                   random_state=None, solver='liblinear', tol=0.0001, verbose=0,\n",
       "                   warm_start=False)"
      ]
     },
     "execution_count": 27,
     "metadata": {},
     "output_type": "execute_result"
    }
   ],
   "source": [
    "# fit\n",
    "logreg.fit(X_train, Y_train)"
   ]
  },
  {
   "cell_type": "markdown",
   "metadata": {},
   "source": [
    "### Comparando sklearn con nuestro modelo\n",
    "\n",
    "Porcentaje de estimaciones iguales entre los dos modelos."
   ]
  },
  {
   "cell_type": "code",
   "execution_count": 28,
   "metadata": {},
   "outputs": [
    {
     "name": "stdout",
     "output_type": "stream",
     "text": [
      "comparacion = 100.0%\n"
     ]
    }
   ],
   "source": [
    "skl_preds = logreg.predict(new)\n",
    "print('comparacion = '+str((skl_preds == predictions).mean()*100)+'%')"
   ]
  },
  {
   "cell_type": "markdown",
   "metadata": {},
   "source": [
    "![](https://media.giphy.com/media/XreQmk7ETCak0/giphy.gif)"
   ]
  }
 ],
 "metadata": {
  "kernelspec": {
   "display_name": "test",
   "language": "python",
   "name": "test"
  },
  "language_info": {
   "codemirror_mode": {
    "name": "ipython",
    "version": 3
   },
   "file_extension": ".py",
   "mimetype": "text/x-python",
   "name": "python",
   "nbconvert_exporter": "python",
   "pygments_lexer": "ipython3",
   "version": "3.6.8"
  }
 },
 "nbformat": 4,
 "nbformat_minor": 2
}
